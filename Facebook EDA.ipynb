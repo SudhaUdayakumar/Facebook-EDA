{
 "cells": [
  {
   "cell_type": "markdown",
   "metadata": {},
   "source": [
    "# Insaid Term - 2 EDA Facebook Project - Sudha Udayakumar"
   ]
  },
  {
   "cell_type": "markdown",
   "metadata": {
    "toc": true
   },
   "source": [
    "<h1>Table of Contents<span class=\"tocSkip\"></span></h1>\n",
    "<div class=\"toc\"><ul class=\"toc-item\"><li><span><a href=\"#Introduction-(Define-Problem)\" data-toc-modified-id=\"Introduction-(Define-Problem)-1\"><span class=\"toc-item-num\">1&nbsp;&nbsp;</span>Introduction (Define Problem)</a></span><ul class=\"toc-item\"><li><ul class=\"toc-item\"><li><span><a href=\"#Problem-Statement-(Given)\" data-toc-modified-id=\"Problem-Statement-(Given)-1.0.1\"><span class=\"toc-item-num\">1.0.1&nbsp;&nbsp;</span>Problem Statement (Given)</a></span></li><li><span><a href=\"#Problem-Statement-(Summarized)\" data-toc-modified-id=\"Problem-Statement-(Summarized)-1.0.2\"><span class=\"toc-item-num\">1.0.2&nbsp;&nbsp;</span>Problem Statement (Summarized)</a></span></li></ul></li></ul></li><li><span><a href=\"#Choose-Right-tools\" data-toc-modified-id=\"Choose-Right-tools-2\"><span class=\"toc-item-num\">2&nbsp;&nbsp;</span>Choose Right tools</a></span><ul class=\"toc-item\"><li><ul class=\"toc-item\"><li><span><a href=\"#Installing-the-packages\" data-toc-modified-id=\"Installing-the-packages-2.0.1\"><span class=\"toc-item-num\">2.0.1&nbsp;&nbsp;</span>Installing the packages</a></span></li><li><span><a href=\"#Importing-the-Packages\" data-toc-modified-id=\"Importing-the-Packages-2.0.2\"><span class=\"toc-item-num\">2.0.2&nbsp;&nbsp;</span>Importing the Packages</a></span></li></ul></li></ul></li><li><span><a href=\"#Data-Collection\" data-toc-modified-id=\"Data-Collection-3\"><span class=\"toc-item-num\">3&nbsp;&nbsp;</span>Data Collection</a></span><ul class=\"toc-item\"><li><span><a href=\"#Loading-the-Dataset\" data-toc-modified-id=\"Loading-the-Dataset-3.1\"><span class=\"toc-item-num\">3.1&nbsp;&nbsp;</span>Loading the Dataset</a></span></li><li><span><a href=\"#Description-of-the-data-set\" data-toc-modified-id=\"Description-of-the-data-set-3.2\"><span class=\"toc-item-num\">3.2&nbsp;&nbsp;</span>Description of the data set</a></span></li></ul></li><li><span><a href=\"#Pre-Profiling-of-data\" data-toc-modified-id=\"Pre-Profiling-of-data-4\"><span class=\"toc-item-num\">4&nbsp;&nbsp;</span>Pre-Profiling of data</a></span></li><li><span><a href=\"#Pre-Processing-of-Data\" data-toc-modified-id=\"Pre-Processing-of-Data-5\"><span class=\"toc-item-num\">5&nbsp;&nbsp;</span>Pre-Processing of Data</a></span><ul class=\"toc-item\"><li><span><a href=\"#Check-for-duplicates\" data-toc-modified-id=\"Check-for-duplicates-5.1\"><span class=\"toc-item-num\">5.1&nbsp;&nbsp;</span>Check for duplicates</a></span></li><li><span><a href=\"#Checking-missing-value\" data-toc-modified-id=\"Checking-missing-value-5.2\"><span class=\"toc-item-num\">5.2&nbsp;&nbsp;</span>Checking missing value</a></span><ul class=\"toc-item\"><li><span><a href=\"#Tenure\" data-toc-modified-id=\"Tenure-5.2.1\"><span class=\"toc-item-num\">5.2.1&nbsp;&nbsp;</span>Tenure</a></span></li><li><span><a href=\"#Gender\" data-toc-modified-id=\"Gender-5.2.2\"><span class=\"toc-item-num\">5.2.2&nbsp;&nbsp;</span>Gender</a></span></li></ul></li><li><span><a href=\"#Modify-Columns-as-necessary\" data-toc-modified-id=\"Modify-Columns-as-necessary-5.3\"><span class=\"toc-item-num\">5.3&nbsp;&nbsp;</span>Modify Columns as necessary</a></span><ul class=\"toc-item\"><li><span><a href=\"#Create-DOB\" data-toc-modified-id=\"Create-DOB-5.3.1\"><span class=\"toc-item-num\">5.3.1&nbsp;&nbsp;</span>Create DOB</a></span></li><li><span><a href=\"#Create-a-new-column-for-Tenure-called-duration\" data-toc-modified-id=\"Create-a-new-column-for-Tenure-called-duration-5.3.2\"><span class=\"toc-item-num\">5.3.2&nbsp;&nbsp;</span>Create a new column for Tenure called duration</a></span></li><li><span><a href=\"#Inactive-users-on-Facebook\" data-toc-modified-id=\"Inactive-users-on-Facebook-5.3.3\"><span class=\"toc-item-num\">5.3.3&nbsp;&nbsp;</span>Inactive users on Facebook</a></span></li></ul></li><li><span><a href=\"#Binning-the-data\" data-toc-modified-id=\"Binning-the-data-5.4\"><span class=\"toc-item-num\">5.4&nbsp;&nbsp;</span>Binning the data</a></span><ul class=\"toc-item\"><li><span><a href=\"#Age-bins\" data-toc-modified-id=\"Age-bins-5.4.1\"><span class=\"toc-item-num\">5.4.1&nbsp;&nbsp;</span>Age bins</a></span></li></ul></li><li><span><a href=\"#Outliers\" data-toc-modified-id=\"Outliers-5.5\"><span class=\"toc-item-num\">5.5&nbsp;&nbsp;</span>Outliers</a></span></li></ul></li><li><span><a href=\"#Post-Profiling-of-data\" data-toc-modified-id=\"Post-Profiling-of-data-6\"><span class=\"toc-item-num\">6&nbsp;&nbsp;</span>Post-Profiling of data</a></span><ul class=\"toc-item\"><li><ul class=\"toc-item\"><li><span><a href=\"#Post-Profiling-data-Inference\" data-toc-modified-id=\"Post-Profiling-data-Inference-6.0.1\"><span class=\"toc-item-num\">6.0.1&nbsp;&nbsp;</span>Post-Profiling data Inference</a></span></li></ul></li></ul></li><li><span><a href=\"#EDA---Ask-right-questions\" data-toc-modified-id=\"EDA---Ask-right-questions-7\"><span class=\"toc-item-num\">7&nbsp;&nbsp;</span><strong>EDA</strong> - Ask right questions</a></span><ul class=\"toc-item\"><li><span><a href=\"#Univariate-analysis\" data-toc-modified-id=\"Univariate-analysis-7.1\"><span class=\"toc-item-num\">7.1&nbsp;&nbsp;</span>Univariate analysis</a></span></li><li><span><a href=\"#Multivariate-Analysis\" data-toc-modified-id=\"Multivariate-Analysis-7.2\"><span class=\"toc-item-num\">7.2&nbsp;&nbsp;</span>Multivariate Analysis</a></span><ul class=\"toc-item\"><li><span><a href=\"#Gender\" data-toc-modified-id=\"Gender-7.2.1\"><span class=\"toc-item-num\">7.2.1&nbsp;&nbsp;</span>Gender</a></span><ul class=\"toc-item\"><li><span><a href=\"#Gender-vs-Age-group\" data-toc-modified-id=\"Gender-vs-Age-group-7.2.1.1\"><span class=\"toc-item-num\">7.2.1.1&nbsp;&nbsp;</span>Gender vs Age group</a></span></li><li><span><a href=\"#Gender-vs-Tenure\" data-toc-modified-id=\"Gender-vs-Tenure-7.2.1.2\"><span class=\"toc-item-num\">7.2.1.2&nbsp;&nbsp;</span>Gender vs Tenure</a></span></li><li><span><a href=\"#Gender-vs-Likes-given\" data-toc-modified-id=\"Gender-vs-Likes-given-7.2.1.3\"><span class=\"toc-item-num\">7.2.1.3&nbsp;&nbsp;</span>Gender vs Likes given</a></span></li><li><span><a href=\"#Gender-vs-Likes-received\" data-toc-modified-id=\"Gender-vs-Likes-received-7.2.1.4\"><span class=\"toc-item-num\">7.2.1.4&nbsp;&nbsp;</span>Gender vs Likes received</a></span></li><li><span><a href=\"#Gender-vs-Friendship-(Friendship-initiated-and-Friendship-counts)\" data-toc-modified-id=\"Gender-vs-Friendship-(Friendship-initiated-and-Friendship-counts)-7.2.1.5\"><span class=\"toc-item-num\">7.2.1.5&nbsp;&nbsp;</span>Gender vs Friendship (Friendship initiated and Friendship counts)</a></span></li></ul></li><li><span><a href=\"#Age\" data-toc-modified-id=\"Age-7.2.2\"><span class=\"toc-item-num\">7.2.2&nbsp;&nbsp;</span>Age</a></span><ul class=\"toc-item\"><li><span><a href=\"#Age-Vs-Gender\" data-toc-modified-id=\"Age-Vs-Gender-7.2.2.1\"><span class=\"toc-item-num\">7.2.2.1&nbsp;&nbsp;</span>Age Vs Gender</a></span></li><li><span><a href=\"#Age-Vs-Likes-given\" data-toc-modified-id=\"Age-Vs-Likes-given-7.2.2.2\"><span class=\"toc-item-num\">7.2.2.2&nbsp;&nbsp;</span>Age Vs Likes given</a></span></li><li><span><a href=\"#Age-Vs-Likes-received\" data-toc-modified-id=\"Age-Vs-Likes-received-7.2.2.3\"><span class=\"toc-item-num\">7.2.2.3&nbsp;&nbsp;</span>Age Vs Likes received</a></span></li><li><span><a href=\"#Age-Vs-Friendship-counts---Genderwise-classification\" data-toc-modified-id=\"Age-Vs-Friendship-counts---Genderwise-classification-7.2.2.4\"><span class=\"toc-item-num\">7.2.2.4&nbsp;&nbsp;</span>Age Vs Friendship counts - Genderwise classification</a></span></li><li><span><a href=\"#Age-vs-Friendship-Initiated---Genderwise-classification\" data-toc-modified-id=\"Age-vs-Friendship-Initiated---Genderwise-classification-7.2.2.5\"><span class=\"toc-item-num\">7.2.2.5&nbsp;&nbsp;</span>Age vs Friendship Initiated - Genderwise classification</a></span></li></ul></li></ul></li><li><span><a href=\"#Groupby-multiple-group-Analysis\" data-toc-modified-id=\"Groupby-multiple-group-Analysis-7.3\"><span class=\"toc-item-num\">7.3&nbsp;&nbsp;</span>Groupby multiple group Analysis</a></span><ul class=\"toc-item\"><li><span><a href=\"#Groupby--Age-Category\" data-toc-modified-id=\"Groupby--Age-Category-7.3.1\"><span class=\"toc-item-num\">7.3.1&nbsp;&nbsp;</span>Groupby -Age Category</a></span></li><li><span><a href=\"#Grouby--Duration-Category\" data-toc-modified-id=\"Grouby--Duration-Category-7.3.2\"><span class=\"toc-item-num\">7.3.2&nbsp;&nbsp;</span>Grouby- Duration Category</a></span></li></ul></li><li><span><a href=\"#Micro-to-Macro-Analysis-(Inactive-users)\" data-toc-modified-id=\"Micro-to-Macro-Analysis-(Inactive-users)-7.4\"><span class=\"toc-item-num\">7.4&nbsp;&nbsp;</span>Micro to Macro Analysis (Inactive users)</a></span><ul class=\"toc-item\"><li><span><a href=\"#Inactive-users-gender\" data-toc-modified-id=\"Inactive-users-gender-7.4.1\"><span class=\"toc-item-num\">7.4.1&nbsp;&nbsp;</span>Inactive users gender</a></span></li><li><span><a href=\"#Inactive-users-vs-age-groups\" data-toc-modified-id=\"Inactive-users-vs-age-groups-7.4.2\"><span class=\"toc-item-num\">7.4.2&nbsp;&nbsp;</span>Inactive users vs age groups</a></span></li><li><span><a href=\"#Inactive-users-vs-tenure\" data-toc-modified-id=\"Inactive-users-vs-tenure-7.4.3\"><span class=\"toc-item-num\">7.4.3&nbsp;&nbsp;</span>Inactive users vs tenure</a></span></li><li><span><a href=\"#Inactive-users-likes-received-(mobile+web)\" data-toc-modified-id=\"Inactive-users-likes-received-(mobile+web)-7.4.4\"><span class=\"toc-item-num\">7.4.4&nbsp;&nbsp;</span>Inactive users likes received (mobile+web)</a></span></li><li><span><a href=\"#Inactive-users-likes-given-(mobile-+-web)\" data-toc-modified-id=\"Inactive-users-likes-given-(mobile-+-web)-7.4.5\"><span class=\"toc-item-num\">7.4.5&nbsp;&nbsp;</span>Inactive users likes given (mobile + web)</a></span></li><li><span><a href=\"#Inactive-users-Lkes-recieved-over-time\" data-toc-modified-id=\"Inactive-users-Lkes-recieved-over-time-7.4.6\"><span class=\"toc-item-num\">7.4.6&nbsp;&nbsp;</span>Inactive users Lkes recieved over time</a></span></li><li><span><a href=\"#Inactive-user-likes-given-over-time\" data-toc-modified-id=\"Inactive-user-likes-given-over-time-7.4.7\"><span class=\"toc-item-num\">7.4.7&nbsp;&nbsp;</span>Inactive user likes given over time</a></span></li></ul></li></ul></li><li><span><a href=\"#EDA---Summarization\" data-toc-modified-id=\"EDA---Summarization-8\"><span class=\"toc-item-num\">8&nbsp;&nbsp;</span><strong>EDA</strong> - Summarization</a></span></li><li><span><a href=\"#EDA---Actionable-Insights\" data-toc-modified-id=\"EDA---Actionable-Insights-9\"><span class=\"toc-item-num\">9&nbsp;&nbsp;</span><strong>EDA</strong> - Actionable Insights</a></span></li></ul></div>"
   ]
  },
  {
   "cell_type": "markdown",
   "metadata": {},
   "source": [
    "## Introduction (Define Problem)"
   ]
  },
  {
   "attachments": {
    "f_logo_RGB-Blue_144.png": {
     "image/png": "[encoded data removed]"
    }
   },
   "cell_type": "markdown",
   "metadata": {},
   "source": [
    "![f_logo_RGB-Blue_144.png](attachment:f_logo_RGB-Blue_144.png)"
   ]
  },
  {
   "cell_type": "markdown",
   "metadata": {},
   "source": [
    "#### Problem Statement (Given)\n",
    "Facebook has become quite popular in the recent few years with people all over the world using it as a medium to share their status, thoughts and pictures with their friends. With the mobile app , it has become even more popular and easier to access. People from all age groups are connected to facebook, however there are certain differences in their way of using it such as with respect to initiating friendships and sending likes . We are trying to study the dataset provided to identify certain patterns with respect to how the users are making use of this most popular social networking app depending on their age group, gender etc"
   ]
  },
  {
   "cell_type": "markdown",
   "metadata": {},
   "source": [
    "#### Problem Statement (Summarized)\n",
    "To analyze the Facebook dataset given based on the users usage pattern based on their age group & gender and identify the patterns\n",
    "    1. To identify the most active age group\n",
    "    2. Men or women who is more active ?\n",
    "    3. The age groups which prefer mobile over web\n",
    "    4. Over Years do their activity increase or decrease\n",
    "    \n",
    "    "
   ]
  },
  {
   "cell_type": "markdown",
   "metadata": {},
   "source": [
    "## Choose Right tools"
   ]
  },
  {
   "cell_type": "markdown",
   "metadata": {},
   "source": [
    "#### Installing the packages\n",
    "Commonly used packages are:<br>\n",
    "\tnumpy<br>\n",
    "\tpandas<br>\n",
    "\tmatplotlib<br>\n",
    "\tseaborn<br>\n",
    "\tdate time<br>\n",
    "\tpandas profiling<br>\n"
   ]
  },
  {
   "cell_type": "markdown",
   "metadata": {},
   "source": [
    "#### Importing the Packages \n",
    "**Import** all the **modules** and give them **suitable aliases**, so that we don't have to repeatedly use the longer form of the name."
   ]
  },
  {
   "cell_type": "code",
   "execution_count": 1,
   "metadata": {},
   "outputs": [],
   "source": [
    "import numpy as np\n",
    "\n",
    "\n",
    "import pandas as pd\n",
    "pd.set_option('mode.chained_assignment', None)      # To suppress pandas warnings.\n",
    "pd.set_option('display.max_colwidth', None)       # To display all the data in each column\n",
    "pd.set_option('display.precision', 3)               # To display values only upto three decimal places.\n",
    "pd.options.display.max_columns = 50                 # To display every column of the dataset in head()\n",
    "pd.options.display.float_format = '{:.2f}'.format\n",
    "\n",
    "import warnings\n",
    "warnings.filterwarnings('ignore')\n",
    "\n",
    "import matplotlib.pyplot as plt\n",
    "%matplotlib inline\n",
    "\n",
    "import seaborn as sns\n",
    "sns.set(style='whitegrid', font_scale = 1.3, color_codes=True)\n",
    "\n",
    "from datetime import datetime, timedelta"
   ]
  },
  {
   "cell_type": "markdown",
   "metadata": {},
   "source": [
    "## Data Collection"
   ]
  },
  {
   "cell_type": "markdown",
   "metadata": {},
   "source": [
    " ### Loading the Dataset \n",
    "To start off, we read in our dataset and generate a simple preview and statistics of our data"
   ]
  },
  {
   "cell_type": "code",
   "execution_count": 68,
   "metadata": {},
   "outputs": [
    {
     "data": {
      "text/html": [
       "<div>\n",
       "<style scoped>\n",
       "    .dataframe tbody tr th:only-of-type {\n",
       "        vertical-align: middle;\n",
       "    }\n",
       "\n",
       "    .dataframe tbody tr th {\n",
       "        vertical-align: top;\n",
       "    }\n",
       "\n",
       "    .dataframe thead th {\n",
       "        text-align: right;\n",
       "    }\n",
       "</style>\n",
       "<table border=\"1\" class=\"dataframe\">\n",
       "  <thead>\n",
       "    <tr style=\"text-align: right;\">\n",
       "      <th></th>\n",
       "      <th>userid</th>\n",
       "      <th>age</th>\n",
       "      <th>dob_day</th>\n",
       "      <th>dob_year</th>\n",
       "      <th>dob_month</th>\n",
       "      <th>gender</th>\n",
       "      <th>tenure</th>\n",
       "      <th>friend_count</th>\n",
       "      <th>friendships_initiated</th>\n",
       "      <th>likes</th>\n",
       "      <th>likes_received</th>\n",
       "      <th>mobile_likes</th>\n",
       "      <th>mobile_likes_received</th>\n",
       "      <th>www_likes</th>\n",
       "      <th>www_likes_received</th>\n",
       "    </tr>\n",
       "  </thead>\n",
       "  <tbody>\n",
       "    <tr>\n",
       "      <th>0</th>\n",
       "      <td>2094382</td>\n",
       "      <td>14</td>\n",
       "      <td>19</td>\n",
       "      <td>1999</td>\n",
       "      <td>11</td>\n",
       "      <td>male</td>\n",
       "      <td>266.00</td>\n",
       "      <td>0</td>\n",
       "      <td>0</td>\n",
       "      <td>0</td>\n",
       "      <td>0</td>\n",
       "      <td>0</td>\n",
       "      <td>0</td>\n",
       "      <td>0</td>\n",
       "      <td>0</td>\n",
       "    </tr>\n",
       "    <tr>\n",
       "      <th>1</th>\n",
       "      <td>1192601</td>\n",
       "      <td>14</td>\n",
       "      <td>2</td>\n",
       "      <td>1999</td>\n",
       "      <td>11</td>\n",
       "      <td>female</td>\n",
       "      <td>6.00</td>\n",
       "      <td>0</td>\n",
       "      <td>0</td>\n",
       "      <td>0</td>\n",
       "      <td>0</td>\n",
       "      <td>0</td>\n",
       "      <td>0</td>\n",
       "      <td>0</td>\n",
       "      <td>0</td>\n",
       "    </tr>\n",
       "    <tr>\n",
       "      <th>2</th>\n",
       "      <td>2083884</td>\n",
       "      <td>14</td>\n",
       "      <td>16</td>\n",
       "      <td>1999</td>\n",
       "      <td>11</td>\n",
       "      <td>male</td>\n",
       "      <td>13.00</td>\n",
       "      <td>0</td>\n",
       "      <td>0</td>\n",
       "      <td>0</td>\n",
       "      <td>0</td>\n",
       "      <td>0</td>\n",
       "      <td>0</td>\n",
       "      <td>0</td>\n",
       "      <td>0</td>\n",
       "    </tr>\n",
       "    <tr>\n",
       "      <th>3</th>\n",
       "      <td>1203168</td>\n",
       "      <td>14</td>\n",
       "      <td>25</td>\n",
       "      <td>1999</td>\n",
       "      <td>12</td>\n",
       "      <td>female</td>\n",
       "      <td>93.00</td>\n",
       "      <td>0</td>\n",
       "      <td>0</td>\n",
       "      <td>0</td>\n",
       "      <td>0</td>\n",
       "      <td>0</td>\n",
       "      <td>0</td>\n",
       "      <td>0</td>\n",
       "      <td>0</td>\n",
       "    </tr>\n",
       "    <tr>\n",
       "      <th>4</th>\n",
       "      <td>1733186</td>\n",
       "      <td>14</td>\n",
       "      <td>4</td>\n",
       "      <td>1999</td>\n",
       "      <td>12</td>\n",
       "      <td>male</td>\n",
       "      <td>82.00</td>\n",
       "      <td>0</td>\n",
       "      <td>0</td>\n",
       "      <td>0</td>\n",
       "      <td>0</td>\n",
       "      <td>0</td>\n",
       "      <td>0</td>\n",
       "      <td>0</td>\n",
       "      <td>0</td>\n",
       "    </tr>\n",
       "  </tbody>\n",
       "</table>\n",
       "</div>"
      ],
      "text/plain": [
       "    userid  age  dob_day  dob_year  dob_month  gender  tenure  friend_count  \\\n",
       "0  2094382   14       19      1999         11    male  266.00             0   \n",
       "1  1192601   14        2      1999         11  female    6.00             0   \n",
       "2  2083884   14       16      1999         11    male   13.00             0   \n",
       "3  1203168   14       25      1999         12  female   93.00             0   \n",
       "4  1733186   14        4      1999         12    male   82.00             0   \n",
       "\n",
       "   friendships_initiated  likes  likes_received  mobile_likes  \\\n",
       "0                      0      0               0             0   \n",
       "1                      0      0               0             0   \n",
       "2                      0      0               0             0   \n",
       "3                      0      0               0             0   \n",
       "4                      0      0               0             0   \n",
       "\n",
       "   mobile_likes_received  www_likes  www_likes_received  \n",
       "0                      0          0                   0  \n",
       "1                      0          0                   0  \n",
       "2                      0          0                   0  \n",
       "3                      0          0                   0  \n",
       "4                      0          0                   0  "
      ]
     },
     "execution_count": 68,
     "metadata": {},
     "output_type": "execute_result"
    }
   ],
   "source": [
    "facebook_df = pd.read_csv(\"https://github.com/insaid2018/Term-1/raw/master/Data/Projects/facebook_data.csv\")\n",
    "facebook_df.head()"
   ]
  },
  {
   "cell_type": "markdown",
   "metadata": {},
   "source": [
    "### Description of the data set\n",
    "This dataset provides a **usage analysis** of Facebook users such as the tenure of their account, number of friends they have, number of friendships they have initiated and the number of likes received by them through the FB website and through the mobile app.\n",
    "\n",
    "| Column Name                    | Description                                                                                |\n",
    "| -------------------------------|:------------------------------------------------------------------------------------------:| \n",
    "| userid                         | A numeric value uniquely identifying the user                                              | \n",
    "| age                            | Age of the user in years                                                                   | \n",
    "| dob_day                        | Day part of the user's Date of Birth                                                       | \n",
    "| dob_year                       | Year part of the user's Date of Birth                                                      |\n",
    "| dob_month                      | Month part of the user's Date of Birth                                                     |\n",
    "| Gender                         | Gender of the user                                                                         |\n",
    "| Tenure                         | Number of days since the user has been on FB                                               |\n",
    "| Friend_count                   | Number of friends the user has                                                             |\n",
    "| Friendships_Initiated          | Number of friendships initiated by the user                                                |\n",
    "| Likes                          | Total number of posts liked by the user                                                    |\n",
    "| Likes_recieved                 | Total Number of likes received by user's posts                                             |\n",
    "| Mobile_likes                   | Number of posts liked by the user through mobile app                                       |\n",
    "| Mobile_likes_received          | Number of likes received by user through mobile app                                        |\n",
    "| www_likes                      | Number of posts liked by the user through web                                              |\n",
    "| www_likes_received             | Number of likes received by user through web                                               |\n"
   ]
  },
  {
   "cell_type": "code",
   "execution_count": 69,
   "metadata": {},
   "outputs": [
    {
     "data": {
      "text/plain": [
       "(99003, 15)"
      ]
     },
     "execution_count": 69,
     "metadata": {},
     "output_type": "execute_result"
    }
   ],
   "source": [
    "facebook_df.shape"
   ]
  },
  {
   "cell_type": "code",
   "execution_count": 70,
   "metadata": {},
   "outputs": [
    {
     "name": "stdout",
     "output_type": "stream",
     "text": [
      "<class 'pandas.core.frame.DataFrame'>\n",
      "RangeIndex: 99003 entries, 0 to 99002\n",
      "Data columns (total 15 columns):\n",
      " #   Column                 Non-Null Count  Dtype  \n",
      "---  ------                 --------------  -----  \n",
      " 0   userid                 99003 non-null  int64  \n",
      " 1   age                    99003 non-null  int64  \n",
      " 2   dob_day                99003 non-null  int64  \n",
      " 3   dob_year               99003 non-null  int64  \n",
      " 4   dob_month              99003 non-null  int64  \n",
      " 5   gender                 98828 non-null  object \n",
      " 6   tenure                 99001 non-null  float64\n",
      " 7   friend_count           99003 non-null  int64  \n",
      " 8   friendships_initiated  99003 non-null  int64  \n",
      " 9   likes                  99003 non-null  int64  \n",
      " 10  likes_received         99003 non-null  int64  \n",
      " 11  mobile_likes           99003 non-null  int64  \n",
      " 12  mobile_likes_received  99003 non-null  int64  \n",
      " 13  www_likes              99003 non-null  int64  \n",
      " 14  www_likes_received     99003 non-null  int64  \n",
      "dtypes: float64(1), int64(13), object(1)\n",
      "memory usage: 11.3+ MB\n"
     ]
    }
   ],
   "source": [
    "facebook_df.info()"
   ]
  },
  {
   "cell_type": "markdown",
   "metadata": {},
   "source": [
    "##\tPre-Profiling of data\n",
    "From the initial analysis the data given we have 15 columns and 99003 rows. Lets pre-profile the data to understand it more in detail<br>"
   ]
  },
  {
   "cell_type": "code",
   "execution_count": 5,
   "metadata": {},
   "outputs": [],
   "source": [
    "import pandas_profiling"
   ]
  },
  {
   "cell_type": "code",
   "execution_count": 6,
   "metadata": {},
   "outputs": [
    {
     "data": {
      "application/vnd.jupyter.widget-view+json": {
       "model_id": "fba0e846f02c4b77854d66eb4ec606e2",
       "version_major": 2,
       "version_minor": 0
      },
      "text/plain": [
       "HBox(children=(FloatProgress(value=0.0, description='Summarize dataset', max=29.0, style=ProgressStyle(descrip…"
      ]
     },
     "metadata": {},
     "output_type": "display_data"
    },
    {
     "name": "stdout",
     "output_type": "stream",
     "text": [
      "\n"
     ]
    },
    {
     "data": {
      "application/vnd.jupyter.widget-view+json": {
       "model_id": "077bf06edede49a996d25bfec79d1457",
       "version_major": 2,
       "version_minor": 0
      },
      "text/plain": [
       "HBox(children=(FloatProgress(value=0.0, description='Generate report structure', max=1.0, style=ProgressStyle(…"
      ]
     },
     "metadata": {},
     "output_type": "display_data"
    },
    {
     "name": "stdout",
     "output_type": "stream",
     "text": [
      "\n"
     ]
    },
    {
     "data": {
      "application/vnd.jupyter.widget-view+json": {
       "model_id": "70d0ac2922d948e9bb74f30e6d0a4ad3",
       "version_major": 2,
       "version_minor": 0
      },
      "text/plain": [
       "HBox(children=(FloatProgress(value=0.0, description='Render HTML', max=1.0, style=ProgressStyle(description_wi…"
      ]
     },
     "metadata": {},
     "output_type": "display_data"
    },
    {
     "name": "stdout",
     "output_type": "stream",
     "text": [
      "\n"
     ]
    },
    {
     "data": {
      "application/vnd.jupyter.widget-view+json": {
       "model_id": "96e0433e95e740a0b3d0d150629bcbcf",
       "version_major": 2,
       "version_minor": 0
      },
      "text/plain": [
       "HBox(children=(FloatProgress(value=0.0, description='Export report to file', max=1.0, style=ProgressStyle(desc…"
      ]
     },
     "metadata": {},
     "output_type": "display_data"
    },
    {
     "name": "stdout",
     "output_type": "stream",
     "text": [
      "\n"
     ]
    }
   ],
   "source": [
    "profile = pandas_profiling.ProfileReport(facebook_df)\n",
    "profile.to_file(output_file='facebook_project_profiling_before_processing.html')"
   ]
  },
  {
   "cell_type": "markdown",
   "metadata": {},
   "source": [
    "Lets pre-process the data to understand it more in detail\n",
    "\n",
    "1.\tChecking for duplicates\n",
    "2.\tChecking for missing value\n",
    "3.\tModify columns as  necessary\n",
    "4.\tBinning the data\n",
    "5.\tOutliers\n"
   ]
  },
  {
   "cell_type": "markdown",
   "metadata": {},
   "source": [
    "##  Pre-Processing of Data\n",
    "### Check for duplicates"
   ]
  },
  {
   "cell_type": "code",
   "execution_count": 7,
   "metadata": {},
   "outputs": [
    {
     "name": "stdout",
     "output_type": "stream",
     "text": [
      "There are 0 duplicates out of total 99003 rows\n"
     ]
    }
   ],
   "source": [
    "duplicates = facebook_df[facebook_df.duplicated()]\n",
    "print('There are {} duplicates out of total {} rows'.format(duplicates.shape[0], facebook_df.shape[0]))"
   ]
  },
  {
   "cell_type": "code",
   "execution_count": 8,
   "metadata": {},
   "outputs": [
    {
     "data": {
      "text/plain": [
       "99003"
      ]
     },
     "execution_count": 8,
     "metadata": {},
     "output_type": "execute_result"
    }
   ],
   "source": [
    "facebook_df['userid'].nunique()"
   ]
  },
  {
   "cell_type": "markdown",
   "metadata": {},
   "source": [
    "Each user id is **unique** so there are **No duplicates**"
   ]
  },
  {
   "cell_type": "markdown",
   "metadata": {},
   "source": [
    "###  Checking missing value"
   ]
  },
  {
   "cell_type": "code",
   "execution_count": 9,
   "metadata": {},
   "outputs": [
    {
     "data": {
      "text/plain": [
       "userid                     0\n",
       "age                        0\n",
       "dob_day                    0\n",
       "dob_year                   0\n",
       "dob_month                  0\n",
       "gender                   175\n",
       "tenure                     2\n",
       "friend_count               0\n",
       "friendships_initiated      0\n",
       "likes                      0\n",
       "likes_received             0\n",
       "mobile_likes               0\n",
       "mobile_likes_received      0\n",
       "www_likes                  0\n",
       "www_likes_received         0\n",
       "dtype: int64"
      ]
     },
     "execution_count": 9,
     "metadata": {},
     "output_type": "execute_result"
    }
   ],
   "source": [
    "facebook_df.isnull().sum()"
   ]
  },
  {
   "cell_type": "markdown",
   "metadata": {},
   "source": [
    "It can be seen that there are missing values in **Tenure** and **Gender**. \n",
    "\n",
    "#### Tenure\n",
    "2 values are missing in Tenure. Lets analyze these 2 rows"
   ]
  },
  {
   "cell_type": "code",
   "execution_count": 10,
   "metadata": {},
   "outputs": [
    {
     "data": {
      "text/html": [
       "<div>\n",
       "<style scoped>\n",
       "    .dataframe tbody tr th:only-of-type {\n",
       "        vertical-align: middle;\n",
       "    }\n",
       "\n",
       "    .dataframe tbody tr th {\n",
       "        vertical-align: top;\n",
       "    }\n",
       "\n",
       "    .dataframe thead th {\n",
       "        text-align: right;\n",
       "    }\n",
       "</style>\n",
       "<table border=\"1\" class=\"dataframe\">\n",
       "  <thead>\n",
       "    <tr style=\"text-align: right;\">\n",
       "      <th></th>\n",
       "      <th>userid</th>\n",
       "      <th>age</th>\n",
       "      <th>dob_day</th>\n",
       "      <th>dob_year</th>\n",
       "      <th>dob_month</th>\n",
       "      <th>gender</th>\n",
       "      <th>tenure</th>\n",
       "      <th>friend_count</th>\n",
       "      <th>friendships_initiated</th>\n",
       "      <th>likes</th>\n",
       "      <th>likes_received</th>\n",
       "      <th>mobile_likes</th>\n",
       "      <th>mobile_likes_received</th>\n",
       "      <th>www_likes</th>\n",
       "      <th>www_likes_received</th>\n",
       "    </tr>\n",
       "  </thead>\n",
       "  <tbody>\n",
       "    <tr>\n",
       "      <th>35057</th>\n",
       "      <td>1414063</td>\n",
       "      <td>88</td>\n",
       "      <td>14</td>\n",
       "      <td>1925</td>\n",
       "      <td>12</td>\n",
       "      <td>female</td>\n",
       "      <td>nan</td>\n",
       "      <td>48</td>\n",
       "      <td>41</td>\n",
       "      <td>18</td>\n",
       "      <td>5</td>\n",
       "      <td>17</td>\n",
       "      <td>3</td>\n",
       "      <td>1</td>\n",
       "      <td>2</td>\n",
       "    </tr>\n",
       "    <tr>\n",
       "      <th>63979</th>\n",
       "      <td>2095829</td>\n",
       "      <td>103</td>\n",
       "      <td>1</td>\n",
       "      <td>1910</td>\n",
       "      <td>1</td>\n",
       "      <td>female</td>\n",
       "      <td>nan</td>\n",
       "      <td>137</td>\n",
       "      <td>52</td>\n",
       "      <td>110</td>\n",
       "      <td>74</td>\n",
       "      <td>0</td>\n",
       "      <td>21</td>\n",
       "      <td>110</td>\n",
       "      <td>53</td>\n",
       "    </tr>\n",
       "  </tbody>\n",
       "</table>\n",
       "</div>"
      ],
      "text/plain": [
       "        userid  age  dob_day  dob_year  dob_month  gender  tenure  \\\n",
       "35057  1414063   88       14      1925         12  female     nan   \n",
       "63979  2095829  103        1      1910          1  female     nan   \n",
       "\n",
       "       friend_count  friendships_initiated  likes  likes_received  \\\n",
       "35057            48                     41     18               5   \n",
       "63979           137                     52    110              74   \n",
       "\n",
       "       mobile_likes  mobile_likes_received  www_likes  www_likes_received  \n",
       "35057            17                      3          1                   2  \n",
       "63979             0                     21        110                  53  "
      ]
     },
     "execution_count": 10,
     "metadata": {},
     "output_type": "execute_result"
    }
   ],
   "source": [
    "facebook_df[facebook_df.tenure.isnull()].head()"
   ]
  },
  {
   "cell_type": "markdown",
   "metadata": {},
   "source": [
    "On above analysis it can be seen that the 2 users with tenure missing have had a lot of friendship counts and likes. So it cannot be that the accounts were just created. It is possible the the persons might have been deceased and the account may have been closed by the family.  Since the count is less, these rows can be dropped from Analysis\n"
   ]
  },
  {
   "cell_type": "code",
   "execution_count": 11,
   "metadata": {},
   "outputs": [],
   "source": [
    "facebook_df.dropna(subset = ['tenure'], inplace= True)"
   ]
  },
  {
   "cell_type": "code",
   "execution_count": 12,
   "metadata": {},
   "outputs": [
    {
     "data": {
      "text/plain": [
       "userid                     0\n",
       "age                        0\n",
       "dob_day                    0\n",
       "dob_year                   0\n",
       "dob_month                  0\n",
       "gender                   175\n",
       "tenure                     0\n",
       "friend_count               0\n",
       "friendships_initiated      0\n",
       "likes                      0\n",
       "likes_received             0\n",
       "mobile_likes               0\n",
       "mobile_likes_received      0\n",
       "www_likes                  0\n",
       "www_likes_received         0\n",
       "dtype: int64"
      ]
     },
     "execution_count": 12,
     "metadata": {},
     "output_type": "execute_result"
    }
   ],
   "source": [
    "facebook_df.isnull().sum()"
   ]
  },
  {
   "cell_type": "code",
   "execution_count": 13,
   "metadata": {},
   "outputs": [
    {
     "name": "stdout",
     "output_type": "stream",
     "text": [
      "<class 'pandas.core.frame.DataFrame'>\n",
      "Int64Index: 99001 entries, 0 to 99002\n",
      "Data columns (total 15 columns):\n",
      " #   Column                 Non-Null Count  Dtype  \n",
      "---  ------                 --------------  -----  \n",
      " 0   userid                 99001 non-null  int64  \n",
      " 1   age                    99001 non-null  int64  \n",
      " 2   dob_day                99001 non-null  int64  \n",
      " 3   dob_year               99001 non-null  int64  \n",
      " 4   dob_month              99001 non-null  int64  \n",
      " 5   gender                 98826 non-null  object \n",
      " 6   tenure                 99001 non-null  float64\n",
      " 7   friend_count           99001 non-null  int64  \n",
      " 8   friendships_initiated  99001 non-null  int64  \n",
      " 9   likes                  99001 non-null  int64  \n",
      " 10  likes_received         99001 non-null  int64  \n",
      " 11  mobile_likes           99001 non-null  int64  \n",
      " 12  mobile_likes_received  99001 non-null  int64  \n",
      " 13  www_likes              99001 non-null  int64  \n",
      " 14  www_likes_received     99001 non-null  int64  \n",
      "dtypes: float64(1), int64(13), object(1)\n",
      "memory usage: 12.1+ MB\n"
     ]
    }
   ],
   "source": [
    "facebook_df.info()"
   ]
  },
  {
   "cell_type": "markdown",
   "metadata": {},
   "source": [
    "It can be seen that the 2 rows with missing tenure data have been removed"
   ]
  },
  {
   "cell_type": "code",
   "execution_count": 14,
   "metadata": {},
   "outputs": [
    {
     "data": {
      "text/html": [
       "<div>\n",
       "<style scoped>\n",
       "    .dataframe tbody tr th:only-of-type {\n",
       "        vertical-align: middle;\n",
       "    }\n",
       "\n",
       "    .dataframe tbody tr th {\n",
       "        vertical-align: top;\n",
       "    }\n",
       "\n",
       "    .dataframe thead th {\n",
       "        text-align: right;\n",
       "    }\n",
       "</style>\n",
       "<table border=\"1\" class=\"dataframe\">\n",
       "  <thead>\n",
       "    <tr style=\"text-align: right;\">\n",
       "      <th></th>\n",
       "      <th>userid</th>\n",
       "      <th>age</th>\n",
       "      <th>dob_day</th>\n",
       "      <th>dob_year</th>\n",
       "      <th>dob_month</th>\n",
       "      <th>tenure</th>\n",
       "      <th>friend_count</th>\n",
       "      <th>friendships_initiated</th>\n",
       "      <th>likes</th>\n",
       "      <th>likes_received</th>\n",
       "      <th>mobile_likes</th>\n",
       "      <th>mobile_likes_received</th>\n",
       "      <th>www_likes</th>\n",
       "      <th>www_likes_received</th>\n",
       "    </tr>\n",
       "  </thead>\n",
       "  <tbody>\n",
       "    <tr>\n",
       "      <th>count</th>\n",
       "      <td>99001.00</td>\n",
       "      <td>99001.00</td>\n",
       "      <td>99001.00</td>\n",
       "      <td>99001.00</td>\n",
       "      <td>99001.00</td>\n",
       "      <td>99001.00</td>\n",
       "      <td>99001.00</td>\n",
       "      <td>99001.00</td>\n",
       "      <td>99001.00</td>\n",
       "      <td>99001.00</td>\n",
       "      <td>99001.00</td>\n",
       "      <td>99001.00</td>\n",
       "      <td>99001.00</td>\n",
       "      <td>99001.00</td>\n",
       "    </tr>\n",
       "    <tr>\n",
       "      <th>mean</th>\n",
       "      <td>1597042.02</td>\n",
       "      <td>37.28</td>\n",
       "      <td>14.53</td>\n",
       "      <td>1975.72</td>\n",
       "      <td>6.28</td>\n",
       "      <td>537.89</td>\n",
       "      <td>196.35</td>\n",
       "      <td>107.45</td>\n",
       "      <td>156.08</td>\n",
       "      <td>142.69</td>\n",
       "      <td>106.12</td>\n",
       "      <td>84.12</td>\n",
       "      <td>49.96</td>\n",
       "      <td>58.57</td>\n",
       "    </tr>\n",
       "    <tr>\n",
       "      <th>std</th>\n",
       "      <td>344058.51</td>\n",
       "      <td>22.59</td>\n",
       "      <td>9.02</td>\n",
       "      <td>22.59</td>\n",
       "      <td>3.53</td>\n",
       "      <td>457.65</td>\n",
       "      <td>387.31</td>\n",
       "      <td>188.79</td>\n",
       "      <td>572.29</td>\n",
       "      <td>1387.93</td>\n",
       "      <td>445.26</td>\n",
       "      <td>839.90</td>\n",
       "      <td>285.56</td>\n",
       "      <td>601.42</td>\n",
       "    </tr>\n",
       "    <tr>\n",
       "      <th>min</th>\n",
       "      <td>1000008.00</td>\n",
       "      <td>13.00</td>\n",
       "      <td>1.00</td>\n",
       "      <td>1900.00</td>\n",
       "      <td>1.00</td>\n",
       "      <td>0.00</td>\n",
       "      <td>0.00</td>\n",
       "      <td>0.00</td>\n",
       "      <td>0.00</td>\n",
       "      <td>0.00</td>\n",
       "      <td>0.00</td>\n",
       "      <td>0.00</td>\n",
       "      <td>0.00</td>\n",
       "      <td>0.00</td>\n",
       "    </tr>\n",
       "    <tr>\n",
       "      <th>25%</th>\n",
       "      <td>1298804.00</td>\n",
       "      <td>20.00</td>\n",
       "      <td>7.00</td>\n",
       "      <td>1963.00</td>\n",
       "      <td>3.00</td>\n",
       "      <td>226.00</td>\n",
       "      <td>31.00</td>\n",
       "      <td>17.00</td>\n",
       "      <td>1.00</td>\n",
       "      <td>1.00</td>\n",
       "      <td>0.00</td>\n",
       "      <td>0.00</td>\n",
       "      <td>0.00</td>\n",
       "      <td>0.00</td>\n",
       "    </tr>\n",
       "    <tr>\n",
       "      <th>50%</th>\n",
       "      <td>1596148.00</td>\n",
       "      <td>28.00</td>\n",
       "      <td>14.00</td>\n",
       "      <td>1985.00</td>\n",
       "      <td>6.00</td>\n",
       "      <td>412.00</td>\n",
       "      <td>82.00</td>\n",
       "      <td>46.00</td>\n",
       "      <td>11.00</td>\n",
       "      <td>8.00</td>\n",
       "      <td>4.00</td>\n",
       "      <td>4.00</td>\n",
       "      <td>0.00</td>\n",
       "      <td>2.00</td>\n",
       "    </tr>\n",
       "    <tr>\n",
       "      <th>75%</th>\n",
       "      <td>1895741.00</td>\n",
       "      <td>50.00</td>\n",
       "      <td>22.00</td>\n",
       "      <td>1993.00</td>\n",
       "      <td>9.00</td>\n",
       "      <td>675.00</td>\n",
       "      <td>206.00</td>\n",
       "      <td>117.00</td>\n",
       "      <td>81.00</td>\n",
       "      <td>59.00</td>\n",
       "      <td>46.00</td>\n",
       "      <td>33.00</td>\n",
       "      <td>7.00</td>\n",
       "      <td>20.00</td>\n",
       "    </tr>\n",
       "    <tr>\n",
       "      <th>max</th>\n",
       "      <td>2193542.00</td>\n",
       "      <td>113.00</td>\n",
       "      <td>31.00</td>\n",
       "      <td>2000.00</td>\n",
       "      <td>12.00</td>\n",
       "      <td>3139.00</td>\n",
       "      <td>4923.00</td>\n",
       "      <td>4144.00</td>\n",
       "      <td>25111.00</td>\n",
       "      <td>261197.00</td>\n",
       "      <td>25111.00</td>\n",
       "      <td>138561.00</td>\n",
       "      <td>14865.00</td>\n",
       "      <td>129953.00</td>\n",
       "    </tr>\n",
       "  </tbody>\n",
       "</table>\n",
       "</div>"
      ],
      "text/plain": [
       "          userid      age  dob_day  dob_year  dob_month   tenure  \\\n",
       "count   99001.00 99001.00 99001.00  99001.00   99001.00 99001.00   \n",
       "mean  1597042.02    37.28    14.53   1975.72       6.28   537.89   \n",
       "std    344058.51    22.59     9.02     22.59       3.53   457.65   \n",
       "min   1000008.00    13.00     1.00   1900.00       1.00     0.00   \n",
       "25%   1298804.00    20.00     7.00   1963.00       3.00   226.00   \n",
       "50%   1596148.00    28.00    14.00   1985.00       6.00   412.00   \n",
       "75%   1895741.00    50.00    22.00   1993.00       9.00   675.00   \n",
       "max   2193542.00   113.00    31.00   2000.00      12.00  3139.00   \n",
       "\n",
       "       friend_count  friendships_initiated    likes  likes_received  \\\n",
       "count      99001.00               99001.00 99001.00        99001.00   \n",
       "mean         196.35                 107.45   156.08          142.69   \n",
       "std          387.31                 188.79   572.29         1387.93   \n",
       "min            0.00                   0.00     0.00            0.00   \n",
       "25%           31.00                  17.00     1.00            1.00   \n",
       "50%           82.00                  46.00    11.00            8.00   \n",
       "75%          206.00                 117.00    81.00           59.00   \n",
       "max         4923.00                4144.00 25111.00       261197.00   \n",
       "\n",
       "       mobile_likes  mobile_likes_received  www_likes  www_likes_received  \n",
       "count      99001.00               99001.00   99001.00            99001.00  \n",
       "mean         106.12                  84.12      49.96               58.57  \n",
       "std          445.26                 839.90     285.56              601.42  \n",
       "min            0.00                   0.00       0.00                0.00  \n",
       "25%            0.00                   0.00       0.00                0.00  \n",
       "50%            4.00                   4.00       0.00                2.00  \n",
       "75%           46.00                  33.00       7.00               20.00  \n",
       "max        25111.00              138561.00   14865.00           129953.00  "
      ]
     },
     "execution_count": 14,
     "metadata": {},
     "output_type": "execute_result"
    }
   ],
   "source": [
    "facebook_df.describe()"
   ]
  },
  {
   "cell_type": "markdown",
   "metadata": {},
   "source": [
    "Please note that there is not much change on the age statistics, though we removed 2 users. That is because the data is huge and removing 2 lines of data would not make a difference"
   ]
  },
  {
   "cell_type": "markdown",
   "metadata": {},
   "source": [
    "#### Gender\n",
    "175 values in Gender data is missing. Lets analyze these rows"
   ]
  },
  {
   "cell_type": "code",
   "execution_count": 15,
   "metadata": {},
   "outputs": [
    {
     "data": {
      "text/html": [
       "<div>\n",
       "<style scoped>\n",
       "    .dataframe tbody tr th:only-of-type {\n",
       "        vertical-align: middle;\n",
       "    }\n",
       "\n",
       "    .dataframe tbody tr th {\n",
       "        vertical-align: top;\n",
       "    }\n",
       "\n",
       "    .dataframe thead th {\n",
       "        text-align: right;\n",
       "    }\n",
       "</style>\n",
       "<table border=\"1\" class=\"dataframe\">\n",
       "  <thead>\n",
       "    <tr style=\"text-align: right;\">\n",
       "      <th></th>\n",
       "      <th>userid</th>\n",
       "      <th>age</th>\n",
       "      <th>dob_day</th>\n",
       "      <th>dob_year</th>\n",
       "      <th>dob_month</th>\n",
       "      <th>gender</th>\n",
       "      <th>tenure</th>\n",
       "      <th>friend_count</th>\n",
       "      <th>friendships_initiated</th>\n",
       "      <th>likes</th>\n",
       "      <th>likes_received</th>\n",
       "      <th>mobile_likes</th>\n",
       "      <th>mobile_likes_received</th>\n",
       "      <th>www_likes</th>\n",
       "      <th>www_likes_received</th>\n",
       "    </tr>\n",
       "  </thead>\n",
       "  <tbody>\n",
       "    <tr>\n",
       "      <th>3224</th>\n",
       "      <td>1781137</td>\n",
       "      <td>25</td>\n",
       "      <td>3</td>\n",
       "      <td>1988</td>\n",
       "      <td>1</td>\n",
       "      <td>NaN</td>\n",
       "      <td>203.00</td>\n",
       "      <td>1</td>\n",
       "      <td>1</td>\n",
       "      <td>1</td>\n",
       "      <td>0</td>\n",
       "      <td>1</td>\n",
       "      <td>0</td>\n",
       "      <td>0</td>\n",
       "      <td>0</td>\n",
       "    </tr>\n",
       "    <tr>\n",
       "      <th>4123</th>\n",
       "      <td>1110111</td>\n",
       "      <td>31</td>\n",
       "      <td>12</td>\n",
       "      <td>1982</td>\n",
       "      <td>1</td>\n",
       "      <td>NaN</td>\n",
       "      <td>227.00</td>\n",
       "      <td>2</td>\n",
       "      <td>2</td>\n",
       "      <td>0</td>\n",
       "      <td>0</td>\n",
       "      <td>0</td>\n",
       "      <td>0</td>\n",
       "      <td>0</td>\n",
       "      <td>0</td>\n",
       "    </tr>\n",
       "    <tr>\n",
       "      <th>5920</th>\n",
       "      <td>2000185</td>\n",
       "      <td>25</td>\n",
       "      <td>15</td>\n",
       "      <td>1988</td>\n",
       "      <td>2</td>\n",
       "      <td>NaN</td>\n",
       "      <td>239.00</td>\n",
       "      <td>4</td>\n",
       "      <td>4</td>\n",
       "      <td>0</td>\n",
       "      <td>0</td>\n",
       "      <td>0</td>\n",
       "      <td>0</td>\n",
       "      <td>0</td>\n",
       "      <td>0</td>\n",
       "    </tr>\n",
       "    <tr>\n",
       "      <th>6432</th>\n",
       "      <td>1137054</td>\n",
       "      <td>59</td>\n",
       "      <td>18</td>\n",
       "      <td>1954</td>\n",
       "      <td>2</td>\n",
       "      <td>NaN</td>\n",
       "      <td>2076.00</td>\n",
       "      <td>4</td>\n",
       "      <td>0</td>\n",
       "      <td>23</td>\n",
       "      <td>5</td>\n",
       "      <td>23</td>\n",
       "      <td>4</td>\n",
       "      <td>0</td>\n",
       "      <td>1</td>\n",
       "    </tr>\n",
       "    <tr>\n",
       "      <th>6870</th>\n",
       "      <td>1783336</td>\n",
       "      <td>62</td>\n",
       "      <td>5</td>\n",
       "      <td>1951</td>\n",
       "      <td>9</td>\n",
       "      <td>NaN</td>\n",
       "      <td>2047.00</td>\n",
       "      <td>5</td>\n",
       "      <td>0</td>\n",
       "      <td>0</td>\n",
       "      <td>1</td>\n",
       "      <td>0</td>\n",
       "      <td>1</td>\n",
       "      <td>0</td>\n",
       "      <td>0</td>\n",
       "    </tr>\n",
       "    <tr>\n",
       "      <th>6886</th>\n",
       "      <td>1280036</td>\n",
       "      <td>67</td>\n",
       "      <td>2</td>\n",
       "      <td>1946</td>\n",
       "      <td>7</td>\n",
       "      <td>NaN</td>\n",
       "      <td>2056.00</td>\n",
       "      <td>5</td>\n",
       "      <td>2</td>\n",
       "      <td>0</td>\n",
       "      <td>0</td>\n",
       "      <td>0</td>\n",
       "      <td>0</td>\n",
       "      <td>0</td>\n",
       "      <td>0</td>\n",
       "    </tr>\n",
       "    <tr>\n",
       "      <th>7130</th>\n",
       "      <td>2185523</td>\n",
       "      <td>108</td>\n",
       "      <td>6</td>\n",
       "      <td>1905</td>\n",
       "      <td>6</td>\n",
       "      <td>NaN</td>\n",
       "      <td>1517.00</td>\n",
       "      <td>5</td>\n",
       "      <td>2</td>\n",
       "      <td>6</td>\n",
       "      <td>15</td>\n",
       "      <td>0</td>\n",
       "      <td>4</td>\n",
       "      <td>6</td>\n",
       "      <td>11</td>\n",
       "    </tr>\n",
       "    <tr>\n",
       "      <th>7242</th>\n",
       "      <td>1117499</td>\n",
       "      <td>90</td>\n",
       "      <td>2</td>\n",
       "      <td>1923</td>\n",
       "      <td>11</td>\n",
       "      <td>NaN</td>\n",
       "      <td>1960.00</td>\n",
       "      <td>5</td>\n",
       "      <td>4</td>\n",
       "      <td>33</td>\n",
       "      <td>12</td>\n",
       "      <td>2</td>\n",
       "      <td>0</td>\n",
       "      <td>31</td>\n",
       "      <td>12</td>\n",
       "    </tr>\n",
       "    <tr>\n",
       "      <th>7555</th>\n",
       "      <td>1098347</td>\n",
       "      <td>27</td>\n",
       "      <td>19</td>\n",
       "      <td>1986</td>\n",
       "      <td>4</td>\n",
       "      <td>NaN</td>\n",
       "      <td>1150.00</td>\n",
       "      <td>7</td>\n",
       "      <td>2</td>\n",
       "      <td>0</td>\n",
       "      <td>0</td>\n",
       "      <td>0</td>\n",
       "      <td>0</td>\n",
       "      <td>0</td>\n",
       "      <td>0</td>\n",
       "    </tr>\n",
       "    <tr>\n",
       "      <th>10093</th>\n",
       "      <td>1020617</td>\n",
       "      <td>85</td>\n",
       "      <td>7</td>\n",
       "      <td>1928</td>\n",
       "      <td>8</td>\n",
       "      <td>NaN</td>\n",
       "      <td>2222.00</td>\n",
       "      <td>9</td>\n",
       "      <td>1</td>\n",
       "      <td>1</td>\n",
       "      <td>1</td>\n",
       "      <td>0</td>\n",
       "      <td>0</td>\n",
       "      <td>1</td>\n",
       "      <td>1</td>\n",
       "    </tr>\n",
       "    <tr>\n",
       "      <th>10238</th>\n",
       "      <td>1388497</td>\n",
       "      <td>70</td>\n",
       "      <td>18</td>\n",
       "      <td>1943</td>\n",
       "      <td>11</td>\n",
       "      <td>NaN</td>\n",
       "      <td>2009.00</td>\n",
       "      <td>9</td>\n",
       "      <td>4</td>\n",
       "      <td>2</td>\n",
       "      <td>1</td>\n",
       "      <td>0</td>\n",
       "      <td>0</td>\n",
       "      <td>2</td>\n",
       "      <td>1</td>\n",
       "    </tr>\n",
       "    <tr>\n",
       "      <th>13801</th>\n",
       "      <td>1714206</td>\n",
       "      <td>108</td>\n",
       "      <td>1</td>\n",
       "      <td>1905</td>\n",
       "      <td>1</td>\n",
       "      <td>NaN</td>\n",
       "      <td>2039.00</td>\n",
       "      <td>15</td>\n",
       "      <td>13</td>\n",
       "      <td>0</td>\n",
       "      <td>0</td>\n",
       "      <td>0</td>\n",
       "      <td>0</td>\n",
       "      <td>0</td>\n",
       "      <td>0</td>\n",
       "    </tr>\n",
       "    <tr>\n",
       "      <th>13806</th>\n",
       "      <td>1379012</td>\n",
       "      <td>25</td>\n",
       "      <td>13</td>\n",
       "      <td>1988</td>\n",
       "      <td>7</td>\n",
       "      <td>NaN</td>\n",
       "      <td>185.00</td>\n",
       "      <td>15</td>\n",
       "      <td>12</td>\n",
       "      <td>1</td>\n",
       "      <td>0</td>\n",
       "      <td>0</td>\n",
       "      <td>0</td>\n",
       "      <td>1</td>\n",
       "      <td>0</td>\n",
       "    </tr>\n",
       "    <tr>\n",
       "      <th>14741</th>\n",
       "      <td>1483075</td>\n",
       "      <td>76</td>\n",
       "      <td>18</td>\n",
       "      <td>1937</td>\n",
       "      <td>2</td>\n",
       "      <td>NaN</td>\n",
       "      <td>2135.00</td>\n",
       "      <td>17</td>\n",
       "      <td>12</td>\n",
       "      <td>1</td>\n",
       "      <td>2</td>\n",
       "      <td>0</td>\n",
       "      <td>1</td>\n",
       "      <td>1</td>\n",
       "      <td>1</td>\n",
       "    </tr>\n",
       "    <tr>\n",
       "      <th>14850</th>\n",
       "      <td>2034827</td>\n",
       "      <td>67</td>\n",
       "      <td>15</td>\n",
       "      <td>1946</td>\n",
       "      <td>8</td>\n",
       "      <td>NaN</td>\n",
       "      <td>2416.00</td>\n",
       "      <td>16</td>\n",
       "      <td>5</td>\n",
       "      <td>2</td>\n",
       "      <td>2</td>\n",
       "      <td>0</td>\n",
       "      <td>0</td>\n",
       "      <td>2</td>\n",
       "      <td>2</td>\n",
       "    </tr>\n",
       "    <tr>\n",
       "      <th>15272</th>\n",
       "      <td>2083169</td>\n",
       "      <td>56</td>\n",
       "      <td>11</td>\n",
       "      <td>1957</td>\n",
       "      <td>5</td>\n",
       "      <td>NaN</td>\n",
       "      <td>1968.00</td>\n",
       "      <td>16</td>\n",
       "      <td>6</td>\n",
       "      <td>18</td>\n",
       "      <td>3</td>\n",
       "      <td>1</td>\n",
       "      <td>2</td>\n",
       "      <td>17</td>\n",
       "      <td>1</td>\n",
       "    </tr>\n",
       "    <tr>\n",
       "      <th>15425</th>\n",
       "      <td>1326030</td>\n",
       "      <td>105</td>\n",
       "      <td>1</td>\n",
       "      <td>1908</td>\n",
       "      <td>8</td>\n",
       "      <td>NaN</td>\n",
       "      <td>2160.00</td>\n",
       "      <td>16</td>\n",
       "      <td>7</td>\n",
       "      <td>65</td>\n",
       "      <td>22</td>\n",
       "      <td>37</td>\n",
       "      <td>16</td>\n",
       "      <td>28</td>\n",
       "      <td>6</td>\n",
       "    </tr>\n",
       "    <tr>\n",
       "      <th>15861</th>\n",
       "      <td>1071932</td>\n",
       "      <td>74</td>\n",
       "      <td>21</td>\n",
       "      <td>1939</td>\n",
       "      <td>8</td>\n",
       "      <td>NaN</td>\n",
       "      <td>2213.00</td>\n",
       "      <td>18</td>\n",
       "      <td>6</td>\n",
       "      <td>1</td>\n",
       "      <td>5</td>\n",
       "      <td>0</td>\n",
       "      <td>1</td>\n",
       "      <td>1</td>\n",
       "      <td>4</td>\n",
       "    </tr>\n",
       "    <tr>\n",
       "      <th>16718</th>\n",
       "      <td>1297309</td>\n",
       "      <td>79</td>\n",
       "      <td>10</td>\n",
       "      <td>1934</td>\n",
       "      <td>4</td>\n",
       "      <td>NaN</td>\n",
       "      <td>2066.00</td>\n",
       "      <td>19</td>\n",
       "      <td>5</td>\n",
       "      <td>0</td>\n",
       "      <td>1</td>\n",
       "      <td>0</td>\n",
       "      <td>0</td>\n",
       "      <td>0</td>\n",
       "      <td>1</td>\n",
       "    </tr>\n",
       "    <tr>\n",
       "      <th>16960</th>\n",
       "      <td>1425233</td>\n",
       "      <td>63</td>\n",
       "      <td>5</td>\n",
       "      <td>1950</td>\n",
       "      <td>3</td>\n",
       "      <td>NaN</td>\n",
       "      <td>1401.00</td>\n",
       "      <td>19</td>\n",
       "      <td>3</td>\n",
       "      <td>3</td>\n",
       "      <td>1</td>\n",
       "      <td>2</td>\n",
       "      <td>1</td>\n",
       "      <td>1</td>\n",
       "      <td>0</td>\n",
       "    </tr>\n",
       "  </tbody>\n",
       "</table>\n",
       "</div>"
      ],
      "text/plain": [
       "        userid  age  dob_day  dob_year  dob_month gender  tenure  \\\n",
       "3224   1781137   25        3      1988          1    NaN  203.00   \n",
       "4123   1110111   31       12      1982          1    NaN  227.00   \n",
       "5920   2000185   25       15      1988          2    NaN  239.00   \n",
       "6432   1137054   59       18      1954          2    NaN 2076.00   \n",
       "6870   1783336   62        5      1951          9    NaN 2047.00   \n",
       "6886   1280036   67        2      1946          7    NaN 2056.00   \n",
       "7130   2185523  108        6      1905          6    NaN 1517.00   \n",
       "7242   1117499   90        2      1923         11    NaN 1960.00   \n",
       "7555   1098347   27       19      1986          4    NaN 1150.00   \n",
       "10093  1020617   85        7      1928          8    NaN 2222.00   \n",
       "10238  1388497   70       18      1943         11    NaN 2009.00   \n",
       "13801  1714206  108        1      1905          1    NaN 2039.00   \n",
       "13806  1379012   25       13      1988          7    NaN  185.00   \n",
       "14741  1483075   76       18      1937          2    NaN 2135.00   \n",
       "14850  2034827   67       15      1946          8    NaN 2416.00   \n",
       "15272  2083169   56       11      1957          5    NaN 1968.00   \n",
       "15425  1326030  105        1      1908          8    NaN 2160.00   \n",
       "15861  1071932   74       21      1939          8    NaN 2213.00   \n",
       "16718  1297309   79       10      1934          4    NaN 2066.00   \n",
       "16960  1425233   63        5      1950          3    NaN 1401.00   \n",
       "\n",
       "       friend_count  friendships_initiated  likes  likes_received  \\\n",
       "3224              1                      1      1               0   \n",
       "4123              2                      2      0               0   \n",
       "5920              4                      4      0               0   \n",
       "6432              4                      0     23               5   \n",
       "6870              5                      0      0               1   \n",
       "6886              5                      2      0               0   \n",
       "7130              5                      2      6              15   \n",
       "7242              5                      4     33              12   \n",
       "7555              7                      2      0               0   \n",
       "10093             9                      1      1               1   \n",
       "10238             9                      4      2               1   \n",
       "13801            15                     13      0               0   \n",
       "13806            15                     12      1               0   \n",
       "14741            17                     12      1               2   \n",
       "14850            16                      5      2               2   \n",
       "15272            16                      6     18               3   \n",
       "15425            16                      7     65              22   \n",
       "15861            18                      6      1               5   \n",
       "16718            19                      5      0               1   \n",
       "16960            19                      3      3               1   \n",
       "\n",
       "       mobile_likes  mobile_likes_received  www_likes  www_likes_received  \n",
       "3224              1                      0          0                   0  \n",
       "4123              0                      0          0                   0  \n",
       "5920              0                      0          0                   0  \n",
       "6432             23                      4          0                   1  \n",
       "6870              0                      1          0                   0  \n",
       "6886              0                      0          0                   0  \n",
       "7130              0                      4          6                  11  \n",
       "7242              2                      0         31                  12  \n",
       "7555              0                      0          0                   0  \n",
       "10093             0                      0          1                   1  \n",
       "10238             0                      0          2                   1  \n",
       "13801             0                      0          0                   0  \n",
       "13806             0                      0          1                   0  \n",
       "14741             0                      1          1                   1  \n",
       "14850             0                      0          2                   2  \n",
       "15272             1                      2         17                   1  \n",
       "15425            37                     16         28                   6  \n",
       "15861             0                      1          1                   4  \n",
       "16718             0                      0          0                   1  \n",
       "16960             2                      1          1                   0  "
      ]
     },
     "execution_count": 15,
     "metadata": {},
     "output_type": "execute_result"
    }
   ],
   "source": [
    "facebook_df[facebook_df.gender.isnull()].head(20)"
   ]
  },
  {
   "cell_type": "code",
   "execution_count": 16,
   "metadata": {},
   "outputs": [
    {
     "data": {
      "text/html": [
       "<div>\n",
       "<style scoped>\n",
       "    .dataframe tbody tr th:only-of-type {\n",
       "        vertical-align: middle;\n",
       "    }\n",
       "\n",
       "    .dataframe tbody tr th {\n",
       "        vertical-align: top;\n",
       "    }\n",
       "\n",
       "    .dataframe thead th {\n",
       "        text-align: right;\n",
       "    }\n",
       "</style>\n",
       "<table border=\"1\" class=\"dataframe\">\n",
       "  <thead>\n",
       "    <tr style=\"text-align: right;\">\n",
       "      <th></th>\n",
       "      <th>userid</th>\n",
       "      <th>age</th>\n",
       "      <th>dob_day</th>\n",
       "      <th>dob_year</th>\n",
       "      <th>dob_month</th>\n",
       "      <th>tenure</th>\n",
       "      <th>friend_count</th>\n",
       "      <th>friendships_initiated</th>\n",
       "      <th>likes</th>\n",
       "      <th>likes_received</th>\n",
       "      <th>mobile_likes</th>\n",
       "      <th>mobile_likes_received</th>\n",
       "      <th>www_likes</th>\n",
       "      <th>www_likes_received</th>\n",
       "    </tr>\n",
       "  </thead>\n",
       "  <tbody>\n",
       "    <tr>\n",
       "      <th>count</th>\n",
       "      <td>175.00</td>\n",
       "      <td>175.00</td>\n",
       "      <td>175.00</td>\n",
       "      <td>175.00</td>\n",
       "      <td>175.00</td>\n",
       "      <td>175.00</td>\n",
       "      <td>175.00</td>\n",
       "      <td>175.00</td>\n",
       "      <td>175.00</td>\n",
       "      <td>175.00</td>\n",
       "      <td>175.00</td>\n",
       "      <td>175.00</td>\n",
       "      <td>175.00</td>\n",
       "      <td>175.00</td>\n",
       "    </tr>\n",
       "    <tr>\n",
       "      <th>mean</th>\n",
       "      <td>1581532.18</td>\n",
       "      <td>74.78</td>\n",
       "      <td>13.09</td>\n",
       "      <td>1938.22</td>\n",
       "      <td>5.50</td>\n",
       "      <td>1801.51</td>\n",
       "      <td>184.41</td>\n",
       "      <td>92.57</td>\n",
       "      <td>138.51</td>\n",
       "      <td>157.38</td>\n",
       "      <td>89.42</td>\n",
       "      <td>85.88</td>\n",
       "      <td>49.09</td>\n",
       "      <td>71.50</td>\n",
       "    </tr>\n",
       "    <tr>\n",
       "      <th>std</th>\n",
       "      <td>370427.13</td>\n",
       "      <td>27.24</td>\n",
       "      <td>9.87</td>\n",
       "      <td>27.24</td>\n",
       "      <td>3.56</td>\n",
       "      <td>598.66</td>\n",
       "      <td>286.75</td>\n",
       "      <td>141.36</td>\n",
       "      <td>394.11</td>\n",
       "      <td>520.48</td>\n",
       "      <td>281.05</td>\n",
       "      <td>305.61</td>\n",
       "      <td>144.33</td>\n",
       "      <td>224.81</td>\n",
       "    </tr>\n",
       "    <tr>\n",
       "      <th>min</th>\n",
       "      <td>1004980.00</td>\n",
       "      <td>15.00</td>\n",
       "      <td>1.00</td>\n",
       "      <td>1900.00</td>\n",
       "      <td>1.00</td>\n",
       "      <td>185.00</td>\n",
       "      <td>1.00</td>\n",
       "      <td>0.00</td>\n",
       "      <td>0.00</td>\n",
       "      <td>0.00</td>\n",
       "      <td>0.00</td>\n",
       "      <td>0.00</td>\n",
       "      <td>0.00</td>\n",
       "      <td>0.00</td>\n",
       "    </tr>\n",
       "    <tr>\n",
       "      <th>25%</th>\n",
       "      <td>1257854.00</td>\n",
       "      <td>56.00</td>\n",
       "      <td>3.00</td>\n",
       "      <td>1911.50</td>\n",
       "      <td>2.00</td>\n",
       "      <td>1604.00</td>\n",
       "      <td>38.00</td>\n",
       "      <td>16.00</td>\n",
       "      <td>3.00</td>\n",
       "      <td>2.00</td>\n",
       "      <td>0.00</td>\n",
       "      <td>1.00</td>\n",
       "      <td>0.00</td>\n",
       "      <td>1.00</td>\n",
       "    </tr>\n",
       "    <tr>\n",
       "      <th>50%</th>\n",
       "      <td>1549135.00</td>\n",
       "      <td>74.00</td>\n",
       "      <td>12.00</td>\n",
       "      <td>1939.00</td>\n",
       "      <td>5.00</td>\n",
       "      <td>2016.00</td>\n",
       "      <td>81.00</td>\n",
       "      <td>34.00</td>\n",
       "      <td>26.00</td>\n",
       "      <td>16.00</td>\n",
       "      <td>5.00</td>\n",
       "      <td>9.00</td>\n",
       "      <td>2.00</td>\n",
       "      <td>7.00</td>\n",
       "    </tr>\n",
       "    <tr>\n",
       "      <th>75%</th>\n",
       "      <td>1930538.50</td>\n",
       "      <td>101.50</td>\n",
       "      <td>22.00</td>\n",
       "      <td>1957.00</td>\n",
       "      <td>9.00</td>\n",
       "      <td>2181.00</td>\n",
       "      <td>205.50</td>\n",
       "      <td>107.50</td>\n",
       "      <td>99.50</td>\n",
       "      <td>72.00</td>\n",
       "      <td>52.00</td>\n",
       "      <td>41.00</td>\n",
       "      <td>26.50</td>\n",
       "      <td>32.50</td>\n",
       "    </tr>\n",
       "    <tr>\n",
       "      <th>max</th>\n",
       "      <td>2193243.00</td>\n",
       "      <td>113.00</td>\n",
       "      <td>31.00</td>\n",
       "      <td>1998.00</td>\n",
       "      <td>12.00</td>\n",
       "      <td>2594.00</td>\n",
       "      <td>2548.00</td>\n",
       "      <td>1130.00</td>\n",
       "      <td>3372.00</td>\n",
       "      <td>4993.00</td>\n",
       "      <td>2348.00</td>\n",
       "      <td>3126.00</td>\n",
       "      <td>1145.00</td>\n",
       "      <td>1867.00</td>\n",
       "    </tr>\n",
       "  </tbody>\n",
       "</table>\n",
       "</div>"
      ],
      "text/plain": [
       "          userid    age  dob_day  dob_year  dob_month  tenure  friend_count  \\\n",
       "count     175.00 175.00   175.00    175.00     175.00  175.00        175.00   \n",
       "mean  1581532.18  74.78    13.09   1938.22       5.50 1801.51        184.41   \n",
       "std    370427.13  27.24     9.87     27.24       3.56  598.66        286.75   \n",
       "min   1004980.00  15.00     1.00   1900.00       1.00  185.00          1.00   \n",
       "25%   1257854.00  56.00     3.00   1911.50       2.00 1604.00         38.00   \n",
       "50%   1549135.00  74.00    12.00   1939.00       5.00 2016.00         81.00   \n",
       "75%   1930538.50 101.50    22.00   1957.00       9.00 2181.00        205.50   \n",
       "max   2193243.00 113.00    31.00   1998.00      12.00 2594.00       2548.00   \n",
       "\n",
       "       friendships_initiated   likes  likes_received  mobile_likes  \\\n",
       "count                 175.00  175.00          175.00        175.00   \n",
       "mean                   92.57  138.51          157.38         89.42   \n",
       "std                   141.36  394.11          520.48        281.05   \n",
       "min                     0.00    0.00            0.00          0.00   \n",
       "25%                    16.00    3.00            2.00          0.00   \n",
       "50%                    34.00   26.00           16.00          5.00   \n",
       "75%                   107.50   99.50           72.00         52.00   \n",
       "max                  1130.00 3372.00         4993.00       2348.00   \n",
       "\n",
       "       mobile_likes_received  www_likes  www_likes_received  \n",
       "count                 175.00     175.00              175.00  \n",
       "mean                   85.88      49.09               71.50  \n",
       "std                   305.61     144.33              224.81  \n",
       "min                     0.00       0.00                0.00  \n",
       "25%                     1.00       0.00                1.00  \n",
       "50%                     9.00       2.00                7.00  \n",
       "75%                    41.00      26.50               32.50  \n",
       "max                  3126.00    1145.00             1867.00  "
      ]
     },
     "execution_count": 16,
     "metadata": {},
     "output_type": "execute_result"
    }
   ],
   "source": [
    "facebook_df[facebook_df.gender.isnull()].describe()"
   ]
  },
  {
   "cell_type": "code",
   "execution_count": 17,
   "metadata": {},
   "outputs": [
    {
     "data": {
      "text/html": [
       "<div>\n",
       "<style scoped>\n",
       "    .dataframe tbody tr th:only-of-type {\n",
       "        vertical-align: middle;\n",
       "    }\n",
       "\n",
       "    .dataframe tbody tr th {\n",
       "        vertical-align: top;\n",
       "    }\n",
       "\n",
       "    .dataframe thead th {\n",
       "        text-align: right;\n",
       "    }\n",
       "</style>\n",
       "<table border=\"1\" class=\"dataframe\">\n",
       "  <thead>\n",
       "    <tr style=\"text-align: right;\">\n",
       "      <th></th>\n",
       "      <th>userid</th>\n",
       "      <th>age</th>\n",
       "      <th>dob_day</th>\n",
       "      <th>dob_year</th>\n",
       "      <th>dob_month</th>\n",
       "      <th>tenure</th>\n",
       "      <th>friend_count</th>\n",
       "      <th>friendships_initiated</th>\n",
       "      <th>likes</th>\n",
       "      <th>likes_received</th>\n",
       "      <th>mobile_likes</th>\n",
       "      <th>mobile_likes_received</th>\n",
       "      <th>www_likes</th>\n",
       "      <th>www_likes_received</th>\n",
       "    </tr>\n",
       "  </thead>\n",
       "  <tbody>\n",
       "    <tr>\n",
       "      <th>count</th>\n",
       "      <td>99001.00</td>\n",
       "      <td>99001.00</td>\n",
       "      <td>99001.00</td>\n",
       "      <td>99001.00</td>\n",
       "      <td>99001.00</td>\n",
       "      <td>99001.00</td>\n",
       "      <td>99001.00</td>\n",
       "      <td>99001.00</td>\n",
       "      <td>99001.00</td>\n",
       "      <td>99001.00</td>\n",
       "      <td>99001.00</td>\n",
       "      <td>99001.00</td>\n",
       "      <td>99001.00</td>\n",
       "      <td>99001.00</td>\n",
       "    </tr>\n",
       "    <tr>\n",
       "      <th>mean</th>\n",
       "      <td>1597042.02</td>\n",
       "      <td>37.28</td>\n",
       "      <td>14.53</td>\n",
       "      <td>1975.72</td>\n",
       "      <td>6.28</td>\n",
       "      <td>537.89</td>\n",
       "      <td>196.35</td>\n",
       "      <td>107.45</td>\n",
       "      <td>156.08</td>\n",
       "      <td>142.69</td>\n",
       "      <td>106.12</td>\n",
       "      <td>84.12</td>\n",
       "      <td>49.96</td>\n",
       "      <td>58.57</td>\n",
       "    </tr>\n",
       "    <tr>\n",
       "      <th>std</th>\n",
       "      <td>344058.51</td>\n",
       "      <td>22.59</td>\n",
       "      <td>9.02</td>\n",
       "      <td>22.59</td>\n",
       "      <td>3.53</td>\n",
       "      <td>457.65</td>\n",
       "      <td>387.31</td>\n",
       "      <td>188.79</td>\n",
       "      <td>572.29</td>\n",
       "      <td>1387.93</td>\n",
       "      <td>445.26</td>\n",
       "      <td>839.90</td>\n",
       "      <td>285.56</td>\n",
       "      <td>601.42</td>\n",
       "    </tr>\n",
       "    <tr>\n",
       "      <th>min</th>\n",
       "      <td>1000008.00</td>\n",
       "      <td>13.00</td>\n",
       "      <td>1.00</td>\n",
       "      <td>1900.00</td>\n",
       "      <td>1.00</td>\n",
       "      <td>0.00</td>\n",
       "      <td>0.00</td>\n",
       "      <td>0.00</td>\n",
       "      <td>0.00</td>\n",
       "      <td>0.00</td>\n",
       "      <td>0.00</td>\n",
       "      <td>0.00</td>\n",
       "      <td>0.00</td>\n",
       "      <td>0.00</td>\n",
       "    </tr>\n",
       "    <tr>\n",
       "      <th>25%</th>\n",
       "      <td>1298804.00</td>\n",
       "      <td>20.00</td>\n",
       "      <td>7.00</td>\n",
       "      <td>1963.00</td>\n",
       "      <td>3.00</td>\n",
       "      <td>226.00</td>\n",
       "      <td>31.00</td>\n",
       "      <td>17.00</td>\n",
       "      <td>1.00</td>\n",
       "      <td>1.00</td>\n",
       "      <td>0.00</td>\n",
       "      <td>0.00</td>\n",
       "      <td>0.00</td>\n",
       "      <td>0.00</td>\n",
       "    </tr>\n",
       "    <tr>\n",
       "      <th>50%</th>\n",
       "      <td>1596148.00</td>\n",
       "      <td>28.00</td>\n",
       "      <td>14.00</td>\n",
       "      <td>1985.00</td>\n",
       "      <td>6.00</td>\n",
       "      <td>412.00</td>\n",
       "      <td>82.00</td>\n",
       "      <td>46.00</td>\n",
       "      <td>11.00</td>\n",
       "      <td>8.00</td>\n",
       "      <td>4.00</td>\n",
       "      <td>4.00</td>\n",
       "      <td>0.00</td>\n",
       "      <td>2.00</td>\n",
       "    </tr>\n",
       "    <tr>\n",
       "      <th>75%</th>\n",
       "      <td>1895741.00</td>\n",
       "      <td>50.00</td>\n",
       "      <td>22.00</td>\n",
       "      <td>1993.00</td>\n",
       "      <td>9.00</td>\n",
       "      <td>675.00</td>\n",
       "      <td>206.00</td>\n",
       "      <td>117.00</td>\n",
       "      <td>81.00</td>\n",
       "      <td>59.00</td>\n",
       "      <td>46.00</td>\n",
       "      <td>33.00</td>\n",
       "      <td>7.00</td>\n",
       "      <td>20.00</td>\n",
       "    </tr>\n",
       "    <tr>\n",
       "      <th>max</th>\n",
       "      <td>2193542.00</td>\n",
       "      <td>113.00</td>\n",
       "      <td>31.00</td>\n",
       "      <td>2000.00</td>\n",
       "      <td>12.00</td>\n",
       "      <td>3139.00</td>\n",
       "      <td>4923.00</td>\n",
       "      <td>4144.00</td>\n",
       "      <td>25111.00</td>\n",
       "      <td>261197.00</td>\n",
       "      <td>25111.00</td>\n",
       "      <td>138561.00</td>\n",
       "      <td>14865.00</td>\n",
       "      <td>129953.00</td>\n",
       "    </tr>\n",
       "  </tbody>\n",
       "</table>\n",
       "</div>"
      ],
      "text/plain": [
       "          userid      age  dob_day  dob_year  dob_month   tenure  \\\n",
       "count   99001.00 99001.00 99001.00  99001.00   99001.00 99001.00   \n",
       "mean  1597042.02    37.28    14.53   1975.72       6.28   537.89   \n",
       "std    344058.51    22.59     9.02     22.59       3.53   457.65   \n",
       "min   1000008.00    13.00     1.00   1900.00       1.00     0.00   \n",
       "25%   1298804.00    20.00     7.00   1963.00       3.00   226.00   \n",
       "50%   1596148.00    28.00    14.00   1985.00       6.00   412.00   \n",
       "75%   1895741.00    50.00    22.00   1993.00       9.00   675.00   \n",
       "max   2193542.00   113.00    31.00   2000.00      12.00  3139.00   \n",
       "\n",
       "       friend_count  friendships_initiated    likes  likes_received  \\\n",
       "count      99001.00               99001.00 99001.00        99001.00   \n",
       "mean         196.35                 107.45   156.08          142.69   \n",
       "std          387.31                 188.79   572.29         1387.93   \n",
       "min            0.00                   0.00     0.00            0.00   \n",
       "25%           31.00                  17.00     1.00            1.00   \n",
       "50%           82.00                  46.00    11.00            8.00   \n",
       "75%          206.00                 117.00    81.00           59.00   \n",
       "max         4923.00                4144.00 25111.00       261197.00   \n",
       "\n",
       "       mobile_likes  mobile_likes_received  www_likes  www_likes_received  \n",
       "count      99001.00               99001.00   99001.00            99001.00  \n",
       "mean         106.12                  84.12      49.96               58.57  \n",
       "std          445.26                 839.90     285.56              601.42  \n",
       "min            0.00                   0.00       0.00                0.00  \n",
       "25%            0.00                   0.00       0.00                0.00  \n",
       "50%            4.00                   4.00       0.00                2.00  \n",
       "75%           46.00                  33.00       7.00               20.00  \n",
       "max        25111.00              138561.00   14865.00           129953.00  "
      ]
     },
     "execution_count": 17,
     "metadata": {},
     "output_type": "execute_result"
    }
   ],
   "source": [
    "facebook_df.describe()"
   ]
  },
  {
   "cell_type": "markdown",
   "metadata": {},
   "source": [
    "On comparing the rows with Missing Gender and Rest of data, it can be seen that, <br>\n",
    "a. the tenure of the users with missing gender have infact been longer on Facebook when compared to overall data<br>\n",
    "b. They have also been active in comparison with overall population. <br>\n",
    "c. The reason for the missing data could be because **Transgender** was not given as an option.<br>\n",
    "\n",
    "**175 numbers on 99k data is around 0.18% data. So these 175 rows will be dropped**"
   ]
  },
  {
   "cell_type": "code",
   "execution_count": 18,
   "metadata": {},
   "outputs": [],
   "source": [
    "facebook_df.dropna(subset = ['gender'], inplace= True)"
   ]
  },
  {
   "cell_type": "code",
   "execution_count": 19,
   "metadata": {},
   "outputs": [
    {
     "name": "stdout",
     "output_type": "stream",
     "text": [
      "<class 'pandas.core.frame.DataFrame'>\n",
      "Int64Index: 98826 entries, 0 to 99002\n",
      "Data columns (total 15 columns):\n",
      " #   Column                 Non-Null Count  Dtype  \n",
      "---  ------                 --------------  -----  \n",
      " 0   userid                 98826 non-null  int64  \n",
      " 1   age                    98826 non-null  int64  \n",
      " 2   dob_day                98826 non-null  int64  \n",
      " 3   dob_year               98826 non-null  int64  \n",
      " 4   dob_month              98826 non-null  int64  \n",
      " 5   gender                 98826 non-null  object \n",
      " 6   tenure                 98826 non-null  float64\n",
      " 7   friend_count           98826 non-null  int64  \n",
      " 8   friendships_initiated  98826 non-null  int64  \n",
      " 9   likes                  98826 non-null  int64  \n",
      " 10  likes_received         98826 non-null  int64  \n",
      " 11  mobile_likes           98826 non-null  int64  \n",
      " 12  mobile_likes_received  98826 non-null  int64  \n",
      " 13  www_likes              98826 non-null  int64  \n",
      " 14  www_likes_received     98826 non-null  int64  \n",
      "dtypes: float64(1), int64(13), object(1)\n",
      "memory usage: 12.1+ MB\n"
     ]
    }
   ],
   "source": [
    "facebook_df.info()"
   ]
  },
  {
   "cell_type": "markdown",
   "metadata": {},
   "source": [
    "**Lets now check if all missing data and the corresponding rows have been dropped.**"
   ]
  },
  {
   "cell_type": "code",
   "execution_count": 20,
   "metadata": {},
   "outputs": [
    {
     "data": {
      "text/plain": [
       "userid                   0\n",
       "age                      0\n",
       "dob_day                  0\n",
       "dob_year                 0\n",
       "dob_month                0\n",
       "gender                   0\n",
       "tenure                   0\n",
       "friend_count             0\n",
       "friendships_initiated    0\n",
       "likes                    0\n",
       "likes_received           0\n",
       "mobile_likes             0\n",
       "mobile_likes_received    0\n",
       "www_likes                0\n",
       "www_likes_received       0\n",
       "dtype: int64"
      ]
     },
     "execution_count": 20,
     "metadata": {},
     "output_type": "execute_result"
    }
   ],
   "source": [
    "facebook_df.isnull().sum()"
   ]
  },
  {
   "cell_type": "markdown",
   "metadata": {},
   "source": [
    " It can been that there are no other missing values in the data"
   ]
  },
  {
   "cell_type": "markdown",
   "metadata": {},
   "source": [
    "### Modify Columns as necessary\n",
    "The birthday day and month might not have significance. However we might see if we can combine the dob - date+month+year and\n",
    "if it can be used in dateseries range. Converting to YY-MM-DD format, as the year will give the age range, so keeping\n",
    "it as the first field. The columns for birthday date, month and year can be combined into to single column called DOB. The DOB can be made into timeseries so that we can infer later as needed. The same info we might get with age itself. So creating this DOB for future reference if needed."
   ]
  },
  {
   "cell_type": "markdown",
   "metadata": {},
   "source": [
    "#### Create DOB"
   ]
  },
  {
   "cell_type": "code",
   "execution_count": 21,
   "metadata": {},
   "outputs": [],
   "source": [
    "facebook_df['DOB']=pd.to_datetime((facebook_df.dob_year*10000+facebook_df.dob_month*100+facebook_df.dob_day).apply(str),format='%Y%m%d')"
   ]
  },
  {
   "cell_type": "code",
   "execution_count": 22,
   "metadata": {
    "scrolled": true
   },
   "outputs": [
    {
     "name": "stdout",
     "output_type": "stream",
     "text": [
      "<class 'pandas.core.frame.DataFrame'>\n",
      "Int64Index: 98826 entries, 0 to 99002\n",
      "Data columns (total 16 columns):\n",
      " #   Column                 Non-Null Count  Dtype         \n",
      "---  ------                 --------------  -----         \n",
      " 0   userid                 98826 non-null  int64         \n",
      " 1   age                    98826 non-null  int64         \n",
      " 2   dob_day                98826 non-null  int64         \n",
      " 3   dob_year               98826 non-null  int64         \n",
      " 4   dob_month              98826 non-null  int64         \n",
      " 5   gender                 98826 non-null  object        \n",
      " 6   tenure                 98826 non-null  float64       \n",
      " 7   friend_count           98826 non-null  int64         \n",
      " 8   friendships_initiated  98826 non-null  int64         \n",
      " 9   likes                  98826 non-null  int64         \n",
      " 10  likes_received         98826 non-null  int64         \n",
      " 11  mobile_likes           98826 non-null  int64         \n",
      " 12  mobile_likes_received  98826 non-null  int64         \n",
      " 13  www_likes              98826 non-null  int64         \n",
      " 14  www_likes_received     98826 non-null  int64         \n",
      " 15  DOB                    98826 non-null  datetime64[ns]\n",
      "dtypes: datetime64[ns](1), float64(1), int64(13), object(1)\n",
      "memory usage: 12.8+ MB\n"
     ]
    }
   ],
   "source": [
    "facebook_df.info()"
   ]
  },
  {
   "cell_type": "markdown",
   "metadata": {},
   "source": [
    "It can be seen a new column DOB has been created  as datetime."
   ]
  },
  {
   "cell_type": "markdown",
   "metadata": {},
   "source": [
    "#### Create a new column for Tenure called duration\n",
    "\n"
   ]
  },
  {
   "cell_type": "markdown",
   "metadata": {},
   "source": [
    "Currently the 'tenure' column is number of days, however if we convert to years will be easy  to read and synthesize. So lets convert the tenure. \n",
    "column into years. So we will divide by 365 to get the number of years and convert the float values to integer. \n",
    "Also the Nan values will have to be handled"
   ]
  },
  {
   "cell_type": "code",
   "execution_count": 23,
   "metadata": {},
   "outputs": [
    {
     "data": {
      "text/plain": [
       "0   0.73\n",
       "1   0.02\n",
       "2   0.04\n",
       "3   0.25\n",
       "4   0.22\n",
       "Name: duration, dtype: float64"
      ]
     },
     "execution_count": 23,
     "metadata": {},
     "output_type": "execute_result"
    }
   ],
   "source": [
    "facebook_df['duration'] = facebook_df.apply(lambda row: row['tenure'] /365, axis=1)\n",
    "facebook_df['duration'].head()"
   ]
  },
  {
   "cell_type": "markdown",
   "metadata": {},
   "source": [
    "We can see all are float data, so lets convert to integer & see the value counts"
   ]
  },
  {
   "cell_type": "code",
   "execution_count": 24,
   "metadata": {},
   "outputs": [
    {
     "data": {
      "text/plain": [
       "duration\n",
       "0           43516\n",
       "1           33449\n",
       "2            9883\n",
       "3            5431\n",
       "4            4544\n",
       "5            1437\n",
       "6             543\n",
       "7              14\n",
       "8               9\n",
       "dtype: int64"
      ]
     },
     "execution_count": 24,
     "metadata": {},
     "output_type": "execute_result"
    }
   ],
   "source": [
    "facebook_df= facebook_df[~facebook_df['duration'].isnull()]\n",
    "\n",
    "facebook_df[['duration']] = facebook_df[['duration']].astype(int)\n",
    "\n",
    "facebook_df[['duration']].value_counts()"
   ]
  },
  {
   "cell_type": "code",
   "execution_count": 25,
   "metadata": {},
   "outputs": [
    {
     "data": {
      "text/html": [
       "<div>\n",
       "<style scoped>\n",
       "    .dataframe tbody tr th:only-of-type {\n",
       "        vertical-align: middle;\n",
       "    }\n",
       "\n",
       "    .dataframe tbody tr th {\n",
       "        vertical-align: top;\n",
       "    }\n",
       "\n",
       "    .dataframe thead th {\n",
       "        text-align: right;\n",
       "    }\n",
       "</style>\n",
       "<table border=\"1\" class=\"dataframe\">\n",
       "  <thead>\n",
       "    <tr style=\"text-align: right;\">\n",
       "      <th></th>\n",
       "      <th>duration</th>\n",
       "      <th>tenure</th>\n",
       "    </tr>\n",
       "  </thead>\n",
       "  <tbody>\n",
       "    <tr>\n",
       "      <th>count</th>\n",
       "      <td>98826.00</td>\n",
       "      <td>98826.00</td>\n",
       "    </tr>\n",
       "    <tr>\n",
       "      <th>mean</th>\n",
       "      <td>0.99</td>\n",
       "      <td>535.65</td>\n",
       "    </tr>\n",
       "    <tr>\n",
       "      <th>std</th>\n",
       "      <td>1.25</td>\n",
       "      <td>454.26</td>\n",
       "    </tr>\n",
       "    <tr>\n",
       "      <th>min</th>\n",
       "      <td>0.00</td>\n",
       "      <td>0.00</td>\n",
       "    </tr>\n",
       "    <tr>\n",
       "      <th>25%</th>\n",
       "      <td>0.00</td>\n",
       "      <td>226.00</td>\n",
       "    </tr>\n",
       "    <tr>\n",
       "      <th>50%</th>\n",
       "      <td>1.00</td>\n",
       "      <td>412.00</td>\n",
       "    </tr>\n",
       "    <tr>\n",
       "      <th>75%</th>\n",
       "      <td>1.00</td>\n",
       "      <td>673.00</td>\n",
       "    </tr>\n",
       "    <tr>\n",
       "      <th>max</th>\n",
       "      <td>8.00</td>\n",
       "      <td>3139.00</td>\n",
       "    </tr>\n",
       "  </tbody>\n",
       "</table>\n",
       "</div>"
      ],
      "text/plain": [
       "       duration   tenure\n",
       "count  98826.00 98826.00\n",
       "mean       0.99   535.65\n",
       "std        1.25   454.26\n",
       "min        0.00     0.00\n",
       "25%        0.00   226.00\n",
       "50%        1.00   412.00\n",
       "75%        1.00   673.00\n",
       "max        8.00  3139.00"
      ]
     },
     "execution_count": 25,
     "metadata": {},
     "output_type": "execute_result"
    }
   ],
   "source": [
    "facebook_df[['duration','tenure']].describe()"
   ]
  },
  {
   "cell_type": "markdown",
   "metadata": {},
   "source": [
    "We can see that the maximum tenure is 3139 days, which is just around 8 years plus. So we can see max for duation is 8 years. However the duration column reads as '0', which actually means less than a year. So lets add 1 to the duration column for more readability\n"
   ]
  },
  {
   "cell_type": "code",
   "execution_count": 26,
   "metadata": {},
   "outputs": [
    {
     "data": {
      "text/plain": [
       "duration\n",
       "1           43516\n",
       "2           33449\n",
       "3            9883\n",
       "4            5431\n",
       "5            4544\n",
       "6            1437\n",
       "7             543\n",
       "8              14\n",
       "9               9\n",
       "dtype: int64"
      ]
     },
     "execution_count": 26,
     "metadata": {},
     "output_type": "execute_result"
    }
   ],
   "source": [
    "facebook_df['duration'] = facebook_df.apply(lambda row: row['duration'] +1, axis=1)\n",
    "\n",
    "facebook_df[['duration']].value_counts()"
   ]
  },
  {
   "cell_type": "markdown",
   "metadata": {},
   "source": [
    "we can see that duration for more upto 7,8 years and 9 years is very less, so we can drop those data as well. The data is less than 0.6% and will not impact our overall study. "
   ]
  },
  {
   "cell_type": "code",
   "execution_count": 27,
   "metadata": {},
   "outputs": [
    {
     "data": {
      "text/plain": [
       "duration\n",
       "1           43516\n",
       "2           33449\n",
       "3            9883\n",
       "4            5431\n",
       "5            4544\n",
       "6            1437\n",
       "dtype: int64"
      ]
     },
     "execution_count": 27,
     "metadata": {},
     "output_type": "execute_result"
    }
   ],
   "source": [
    "facebook_df.drop(facebook_df[facebook_df['duration'] >6].index, inplace = True)\n",
    "facebook_df[['duration']].value_counts()"
   ]
  },
  {
   "cell_type": "markdown",
   "metadata": {},
   "source": [
    "We now have data only upto 6 years and removed the other data for easier reference.  The maximum is 6 years of usage, so we have created bins for every 1 year of usage"
   ]
  },
  {
   "cell_type": "markdown",
   "metadata": {},
   "source": [
    "#### Inactive users on Facebook"
   ]
  },
  {
   "cell_type": "markdown",
   "metadata": {},
   "source": [
    "We would also like to understand who the inactive users are. Facebook says 90 days not logged in is classified as inactive. It doesn’t say how active they were in the past or how many friends they have. In the data we have received we don’t have the login activity. Inactive users can be classified using the following, the rule being they should have been on the system for at least 30 days\n",
    "\n",
    "Not having friends <br>\n",
    "Not initiated friends <br>\n",
    "Have not given any likes <br>\n",
    "Have not received likes<br>\n",
    "\n",
    "Giving likes is an attitude issue. People might not like to be public about their opinion and hence would not have given likes. Similarly, they would have also not given likes, as they might have not shared any posts as well. So, we will not consider these people as inactive users\n",
    "\n",
    "I have considered inactive users, who don’t have friends (could be no one initiated, or they used a different name than what they are called, people are not aware etc) or they have not initiated friendship. We will give a learning curve of 30 days and only consider people who have been on the system for more than 30 days and don’t have friends or initiated friendship on Facebook. We will call them the inactive users and see how their data looks like and create a new table"
   ]
  },
  {
   "cell_type": "code",
   "execution_count": 28,
   "metadata": {},
   "outputs": [
    {
     "data": {
      "text/html": [
       "<div>\n",
       "<style scoped>\n",
       "    .dataframe tbody tr th:only-of-type {\n",
       "        vertical-align: middle;\n",
       "    }\n",
       "\n",
       "    .dataframe tbody tr th {\n",
       "        vertical-align: top;\n",
       "    }\n",
       "\n",
       "    .dataframe thead th {\n",
       "        text-align: right;\n",
       "    }\n",
       "</style>\n",
       "<table border=\"1\" class=\"dataframe\">\n",
       "  <thead>\n",
       "    <tr style=\"text-align: right;\">\n",
       "      <th></th>\n",
       "      <th>userid</th>\n",
       "      <th>age</th>\n",
       "      <th>dob_day</th>\n",
       "      <th>dob_year</th>\n",
       "      <th>dob_month</th>\n",
       "      <th>gender</th>\n",
       "      <th>tenure</th>\n",
       "      <th>friend_count</th>\n",
       "      <th>friendships_initiated</th>\n",
       "      <th>likes</th>\n",
       "      <th>likes_received</th>\n",
       "      <th>mobile_likes</th>\n",
       "      <th>mobile_likes_received</th>\n",
       "      <th>www_likes</th>\n",
       "      <th>www_likes_received</th>\n",
       "      <th>DOB</th>\n",
       "      <th>duration</th>\n",
       "    </tr>\n",
       "  </thead>\n",
       "  <tbody>\n",
       "    <tr>\n",
       "      <th>0</th>\n",
       "      <td>2094382</td>\n",
       "      <td>14</td>\n",
       "      <td>19</td>\n",
       "      <td>1999</td>\n",
       "      <td>11</td>\n",
       "      <td>male</td>\n",
       "      <td>266.00</td>\n",
       "      <td>0</td>\n",
       "      <td>0</td>\n",
       "      <td>0</td>\n",
       "      <td>0</td>\n",
       "      <td>0</td>\n",
       "      <td>0</td>\n",
       "      <td>0</td>\n",
       "      <td>0</td>\n",
       "      <td>1999-11-19</td>\n",
       "      <td>1</td>\n",
       "    </tr>\n",
       "    <tr>\n",
       "      <th>3</th>\n",
       "      <td>1203168</td>\n",
       "      <td>14</td>\n",
       "      <td>25</td>\n",
       "      <td>1999</td>\n",
       "      <td>12</td>\n",
       "      <td>female</td>\n",
       "      <td>93.00</td>\n",
       "      <td>0</td>\n",
       "      <td>0</td>\n",
       "      <td>0</td>\n",
       "      <td>0</td>\n",
       "      <td>0</td>\n",
       "      <td>0</td>\n",
       "      <td>0</td>\n",
       "      <td>0</td>\n",
       "      <td>1999-12-25</td>\n",
       "      <td>1</td>\n",
       "    </tr>\n",
       "    <tr>\n",
       "      <th>4</th>\n",
       "      <td>1733186</td>\n",
       "      <td>14</td>\n",
       "      <td>4</td>\n",
       "      <td>1999</td>\n",
       "      <td>12</td>\n",
       "      <td>male</td>\n",
       "      <td>82.00</td>\n",
       "      <td>0</td>\n",
       "      <td>0</td>\n",
       "      <td>0</td>\n",
       "      <td>0</td>\n",
       "      <td>0</td>\n",
       "      <td>0</td>\n",
       "      <td>0</td>\n",
       "      <td>0</td>\n",
       "      <td>1999-12-04</td>\n",
       "      <td>1</td>\n",
       "    </tr>\n",
       "    <tr>\n",
       "      <th>8</th>\n",
       "      <td>1365174</td>\n",
       "      <td>13</td>\n",
       "      <td>1</td>\n",
       "      <td>2000</td>\n",
       "      <td>1</td>\n",
       "      <td>male</td>\n",
       "      <td>81.00</td>\n",
       "      <td>0</td>\n",
       "      <td>0</td>\n",
       "      <td>0</td>\n",
       "      <td>0</td>\n",
       "      <td>0</td>\n",
       "      <td>0</td>\n",
       "      <td>0</td>\n",
       "      <td>0</td>\n",
       "      <td>2000-01-01</td>\n",
       "      <td>1</td>\n",
       "    </tr>\n",
       "    <tr>\n",
       "      <th>9</th>\n",
       "      <td>1712567</td>\n",
       "      <td>13</td>\n",
       "      <td>2</td>\n",
       "      <td>2000</td>\n",
       "      <td>2</td>\n",
       "      <td>male</td>\n",
       "      <td>171.00</td>\n",
       "      <td>0</td>\n",
       "      <td>0</td>\n",
       "      <td>0</td>\n",
       "      <td>0</td>\n",
       "      <td>0</td>\n",
       "      <td>0</td>\n",
       "      <td>0</td>\n",
       "      <td>0</td>\n",
       "      <td>2000-02-02</td>\n",
       "      <td>1</td>\n",
       "    </tr>\n",
       "  </tbody>\n",
       "</table>\n",
       "</div>"
      ],
      "text/plain": [
       "    userid  age  dob_day  dob_year  dob_month  gender  tenure  friend_count  \\\n",
       "0  2094382   14       19      1999         11    male  266.00             0   \n",
       "3  1203168   14       25      1999         12  female   93.00             0   \n",
       "4  1733186   14        4      1999         12    male   82.00             0   \n",
       "8  1365174   13        1      2000          1    male   81.00             0   \n",
       "9  1712567   13        2      2000          2    male  171.00             0   \n",
       "\n",
       "   friendships_initiated  likes  likes_received  mobile_likes  \\\n",
       "0                      0      0               0             0   \n",
       "3                      0      0               0             0   \n",
       "4                      0      0               0             0   \n",
       "8                      0      0               0             0   \n",
       "9                      0      0               0             0   \n",
       "\n",
       "   mobile_likes_received  www_likes  www_likes_received        DOB  duration  \n",
       "0                      0          0                   0 1999-11-19         1  \n",
       "3                      0          0                   0 1999-12-25         1  \n",
       "4                      0          0                   0 1999-12-04         1  \n",
       "8                      0          0                   0 2000-01-01         1  \n",
       "9                      0          0                   0 2000-02-02         1  "
      ]
     },
     "execution_count": 28,
     "metadata": {},
     "output_type": "execute_result"
    }
   ],
   "source": [
    "nofriend_df = facebook_df[(facebook_df['friend_count'] <= 0) & (facebook_df['friendships_initiated'] <= 0) & (facebook_df['tenure'] >30)]\n",
    "nofriend_df.head()"
   ]
  },
  {
   "cell_type": "code",
   "execution_count": 29,
   "metadata": {},
   "outputs": [
    {
     "name": "stdout",
     "output_type": "stream",
     "text": [
      "Total number of users with no friends is:  1446\n"
     ]
    }
   ],
   "source": [
    "print(\"Total number of users with no friends is: \", len(nofriend_df))"
   ]
  },
  {
   "cell_type": "code",
   "execution_count": 30,
   "metadata": {},
   "outputs": [
    {
     "name": "stdout",
     "output_type": "stream",
     "text": [
      "Percentage of Inactive users: 1446/98260 (1.47%) \n"
     ]
    }
   ],
   "source": [
    "# percentage of Inactive users \n",
    "\n",
    "total_userid = facebook_df['userid'].nunique()\n",
    "nofriends_userid = nofriend_df['userid'].nunique()\n",
    "\n",
    "print('Percentage of Inactive users: {}/{} ({:.2f}%) '.format(nofriends_userid, total_userid, nofriends_userid/total_userid*100))"
   ]
  },
  {
   "cell_type": "markdown",
   "metadata": {},
   "source": [
    "Since the inactive users are only 1.47% we will not remove them to identify the active users. reason being the active users defnition is not very clear yet. so we will retain this data, and seperately analyze the Inactive users"
   ]
  },
  {
   "cell_type": "markdown",
   "metadata": {},
   "source": [
    "### Binning the data\n",
    "\n",
    "We are trying to analyze the data based on age group and gender. The Gender is already having two values, namely, male & female. No more changes needed. <br>\n",
    "Age column needs to be sub-divided further so that our analysis we can know the range of the data and which bin is mostly used and not used much\n"
   ]
  },
  {
   "cell_type": "markdown",
   "metadata": {},
   "source": [
    "#### Age bins\n",
    "\n",
    "Facebook requires everyone to be at least 13 years old before they can create an account with the consent of their parents or legal guardians. Once they become a major (18 years) there is no consent needed. So we are going to bin the data below 18+ and with 10 years each, so that we get to see how people use facebook "
   ]
  },
  {
   "cell_type": "code",
   "execution_count": 31,
   "metadata": {},
   "outputs": [],
   "source": [
    "facebook_df['age1_bins'] = pd.cut(facebook_df['age'].dropna(),\n",
    "                            [0,18,28,38,48,58,68,78,88,98,108,118],\n",
    "                            labels=['<18','19-28','29-38','39-48','49-58','59-68','69-78','79-88','89-98','99-108','108+'],include_lowest=True)\n",
    "                            \n"
   ]
  },
  {
   "cell_type": "code",
   "execution_count": 32,
   "metadata": {},
   "outputs": [
    {
     "name": "stdout",
     "output_type": "stream",
     "text": [
      "<class 'pandas.core.frame.DataFrame'>\n",
      "Int64Index: 98260 entries, 0 to 99002\n",
      "Data columns (total 18 columns):\n",
      " #   Column                 Non-Null Count  Dtype         \n",
      "---  ------                 --------------  -----         \n",
      " 0   userid                 98260 non-null  int64         \n",
      " 1   age                    98260 non-null  int64         \n",
      " 2   dob_day                98260 non-null  int64         \n",
      " 3   dob_year               98260 non-null  int64         \n",
      " 4   dob_month              98260 non-null  int64         \n",
      " 5   gender                 98260 non-null  object        \n",
      " 6   tenure                 98260 non-null  float64       \n",
      " 7   friend_count           98260 non-null  int64         \n",
      " 8   friendships_initiated  98260 non-null  int64         \n",
      " 9   likes                  98260 non-null  int64         \n",
      " 10  likes_received         98260 non-null  int64         \n",
      " 11  mobile_likes           98260 non-null  int64         \n",
      " 12  mobile_likes_received  98260 non-null  int64         \n",
      " 13  www_likes              98260 non-null  int64         \n",
      " 14  www_likes_received     98260 non-null  int64         \n",
      " 15  DOB                    98260 non-null  datetime64[ns]\n",
      " 16  duration               98260 non-null  int64         \n",
      " 17  age1_bins              98260 non-null  category      \n",
      "dtypes: category(1), datetime64[ns](1), float64(1), int64(14), object(1)\n",
      "memory usage: 13.6+ MB\n"
     ]
    }
   ],
   "source": [
    "facebook_df.info()"
   ]
  },
  {
   "cell_type": "code",
   "execution_count": 33,
   "metadata": {},
   "outputs": [
    {
     "data": {
      "text/plain": [
       "Text(0.5, 1.0, 'Age Group')"
      ]
     },
     "execution_count": 33,
     "metadata": {},
     "output_type": "execute_result"
    },
    {
     "data": {
      "image/png": "[encoded data removed]",
      "text/plain": [
       "<Figure size 576x432 with 1 Axes>"
      ]
     },
     "metadata": {
      "needs_background": "light"
     },
     "output_type": "display_data"
    }
   ],
   "source": [
    "fig,ax =plt.subplots(figsize=(8,6))\n",
    "sns.countplot(data = facebook_df,x = 'age1_bins', hue='gender')\n",
    "plt.title('Age Group')"
   ]
  },
  {
   "cell_type": "code",
   "execution_count": 34,
   "metadata": {},
   "outputs": [
    {
     "data": {
      "text/plain": [
       "19-28     33128\n",
       "<18       16589\n",
       "29-38     14368\n",
       "49-58      9546\n",
       "39-48      8749\n",
       "59-68      7470\n",
       "99-108     3640\n",
       "69-78      2764\n",
       "79-88       895\n",
       "89-98       882\n",
       "108+        229\n",
       "Name: age1_bins, dtype: int64"
      ]
     },
     "execution_count": 34,
     "metadata": {},
     "output_type": "execute_result"
    }
   ],
   "source": [
    "facebook_df['age1_bins'].value_counts()"
   ]
  },
  {
   "cell_type": "markdown",
   "metadata": {},
   "source": [
    "Looking into the chart, it can be seen that the count of users gradually decrease with the increase in age. However there seems to be sudden spike in the count for age group above 99. This could be because people could have entered wrong year in DOB or typo in DOB year. It can be seen that this count constitutes to close to 4% of overall data and hence can be dropped"
   ]
  },
  {
   "cell_type": "code",
   "execution_count": 35,
   "metadata": {},
   "outputs": [],
   "source": [
    "facebook_df.drop(facebook_df[facebook_df['age'] >99].index, inplace = True)"
   ]
  },
  {
   "cell_type": "code",
   "execution_count": 36,
   "metadata": {},
   "outputs": [
    {
     "data": {
      "text/html": [
       "<div>\n",
       "<style scoped>\n",
       "    .dataframe tbody tr th:only-of-type {\n",
       "        vertical-align: middle;\n",
       "    }\n",
       "\n",
       "    .dataframe tbody tr th {\n",
       "        vertical-align: top;\n",
       "    }\n",
       "\n",
       "    .dataframe thead th {\n",
       "        text-align: right;\n",
       "    }\n",
       "</style>\n",
       "<table border=\"1\" class=\"dataframe\">\n",
       "  <thead>\n",
       "    <tr style=\"text-align: right;\">\n",
       "      <th></th>\n",
       "      <th>userid</th>\n",
       "      <th>age</th>\n",
       "      <th>dob_day</th>\n",
       "      <th>dob_year</th>\n",
       "      <th>dob_month</th>\n",
       "      <th>tenure</th>\n",
       "      <th>friend_count</th>\n",
       "      <th>friendships_initiated</th>\n",
       "      <th>likes</th>\n",
       "      <th>likes_received</th>\n",
       "      <th>mobile_likes</th>\n",
       "      <th>mobile_likes_received</th>\n",
       "      <th>www_likes</th>\n",
       "      <th>www_likes_received</th>\n",
       "      <th>duration</th>\n",
       "    </tr>\n",
       "  </thead>\n",
       "  <tbody>\n",
       "    <tr>\n",
       "      <th>count</th>\n",
       "      <td>94468.00</td>\n",
       "      <td>94468.00</td>\n",
       "      <td>94468.00</td>\n",
       "      <td>94468.00</td>\n",
       "      <td>94468.00</td>\n",
       "      <td>94468.00</td>\n",
       "      <td>94468.00</td>\n",
       "      <td>94468.00</td>\n",
       "      <td>94468.00</td>\n",
       "      <td>94468.00</td>\n",
       "      <td>94468.00</td>\n",
       "      <td>94468.00</td>\n",
       "      <td>94468.00</td>\n",
       "      <td>94468.00</td>\n",
       "      <td>94468.00</td>\n",
       "    </tr>\n",
       "    <tr>\n",
       "      <th>mean</th>\n",
       "      <td>1597507.65</td>\n",
       "      <td>34.24</td>\n",
       "      <td>14.53</td>\n",
       "      <td>1978.76</td>\n",
       "      <td>6.29</td>\n",
       "      <td>504.79</td>\n",
       "      <td>187.68</td>\n",
       "      <td>103.86</td>\n",
       "      <td>155.92</td>\n",
       "      <td>142.65</td>\n",
       "      <td>106.34</td>\n",
       "      <td>83.90</td>\n",
       "      <td>49.58</td>\n",
       "      <td>58.75</td>\n",
       "      <td>1.91</td>\n",
       "    </tr>\n",
       "    <tr>\n",
       "      <th>std</th>\n",
       "      <td>344051.01</td>\n",
       "      <td>17.93</td>\n",
       "      <td>8.99</td>\n",
       "      <td>17.93</td>\n",
       "      <td>3.52</td>\n",
       "      <td>416.01</td>\n",
       "      <td>375.77</td>\n",
       "      <td>185.30</td>\n",
       "      <td>577.31</td>\n",
       "      <td>1415.32</td>\n",
       "      <td>449.00</td>\n",
       "      <td>853.69</td>\n",
       "      <td>288.28</td>\n",
       "      <td>614.59</td>\n",
       "      <td>1.14</td>\n",
       "    </tr>\n",
       "    <tr>\n",
       "      <th>min</th>\n",
       "      <td>1000008.00</td>\n",
       "      <td>13.00</td>\n",
       "      <td>1.00</td>\n",
       "      <td>1914.00</td>\n",
       "      <td>1.00</td>\n",
       "      <td>0.00</td>\n",
       "      <td>0.00</td>\n",
       "      <td>0.00</td>\n",
       "      <td>0.00</td>\n",
       "      <td>0.00</td>\n",
       "      <td>0.00</td>\n",
       "      <td>0.00</td>\n",
       "      <td>0.00</td>\n",
       "      <td>0.00</td>\n",
       "      <td>1.00</td>\n",
       "    </tr>\n",
       "    <tr>\n",
       "      <th>25%</th>\n",
       "      <td>1299453.25</td>\n",
       "      <td>20.00</td>\n",
       "      <td>7.00</td>\n",
       "      <td>1967.00</td>\n",
       "      <td>3.00</td>\n",
       "      <td>221.00</td>\n",
       "      <td>30.00</td>\n",
       "      <td>16.00</td>\n",
       "      <td>1.00</td>\n",
       "      <td>0.00</td>\n",
       "      <td>0.00</td>\n",
       "      <td>0.00</td>\n",
       "      <td>0.00</td>\n",
       "      <td>0.00</td>\n",
       "      <td>1.00</td>\n",
       "    </tr>\n",
       "    <tr>\n",
       "      <th>50%</th>\n",
       "      <td>1596813.50</td>\n",
       "      <td>27.00</td>\n",
       "      <td>14.00</td>\n",
       "      <td>1986.00</td>\n",
       "      <td>6.00</td>\n",
       "      <td>400.00</td>\n",
       "      <td>78.00</td>\n",
       "      <td>44.00</td>\n",
       "      <td>10.00</td>\n",
       "      <td>8.00</td>\n",
       "      <td>4.00</td>\n",
       "      <td>4.00</td>\n",
       "      <td>0.00</td>\n",
       "      <td>2.00</td>\n",
       "      <td>2.00</td>\n",
       "    </tr>\n",
       "    <tr>\n",
       "      <th>75%</th>\n",
       "      <td>1896393.25</td>\n",
       "      <td>46.00</td>\n",
       "      <td>22.00</td>\n",
       "      <td>1993.00</td>\n",
       "      <td>9.00</td>\n",
       "      <td>640.00</td>\n",
       "      <td>196.00</td>\n",
       "      <td>112.00</td>\n",
       "      <td>79.00</td>\n",
       "      <td>57.00</td>\n",
       "      <td>45.00</td>\n",
       "      <td>32.00</td>\n",
       "      <td>6.00</td>\n",
       "      <td>19.00</td>\n",
       "      <td>2.00</td>\n",
       "    </tr>\n",
       "    <tr>\n",
       "      <th>max</th>\n",
       "      <td>2193542.00</td>\n",
       "      <td>99.00</td>\n",
       "      <td>31.00</td>\n",
       "      <td>2000.00</td>\n",
       "      <td>12.00</td>\n",
       "      <td>2189.00</td>\n",
       "      <td>4917.00</td>\n",
       "      <td>4144.00</td>\n",
       "      <td>25111.00</td>\n",
       "      <td>261197.00</td>\n",
       "      <td>25111.00</td>\n",
       "      <td>138561.00</td>\n",
       "      <td>14865.00</td>\n",
       "      <td>129953.00</td>\n",
       "      <td>6.00</td>\n",
       "    </tr>\n",
       "  </tbody>\n",
       "</table>\n",
       "</div>"
      ],
      "text/plain": [
       "          userid      age  dob_day  dob_year  dob_month   tenure  \\\n",
       "count   94468.00 94468.00 94468.00  94468.00   94468.00 94468.00   \n",
       "mean  1597507.65    34.24    14.53   1978.76       6.29   504.79   \n",
       "std    344051.01    17.93     8.99     17.93       3.52   416.01   \n",
       "min   1000008.00    13.00     1.00   1914.00       1.00     0.00   \n",
       "25%   1299453.25    20.00     7.00   1967.00       3.00   221.00   \n",
       "50%   1596813.50    27.00    14.00   1986.00       6.00   400.00   \n",
       "75%   1896393.25    46.00    22.00   1993.00       9.00   640.00   \n",
       "max   2193542.00    99.00    31.00   2000.00      12.00  2189.00   \n",
       "\n",
       "       friend_count  friendships_initiated    likes  likes_received  \\\n",
       "count      94468.00               94468.00 94468.00        94468.00   \n",
       "mean         187.68                 103.86   155.92          142.65   \n",
       "std          375.77                 185.30   577.31         1415.32   \n",
       "min            0.00                   0.00     0.00            0.00   \n",
       "25%           30.00                  16.00     1.00            0.00   \n",
       "50%           78.00                  44.00    10.00            8.00   \n",
       "75%          196.00                 112.00    79.00           57.00   \n",
       "max         4917.00                4144.00 25111.00       261197.00   \n",
       "\n",
       "       mobile_likes  mobile_likes_received  www_likes  www_likes_received  \\\n",
       "count      94468.00               94468.00   94468.00            94468.00   \n",
       "mean         106.34                  83.90      49.58               58.75   \n",
       "std          449.00                 853.69     288.28              614.59   \n",
       "min            0.00                   0.00       0.00                0.00   \n",
       "25%            0.00                   0.00       0.00                0.00   \n",
       "50%            4.00                   4.00       0.00                2.00   \n",
       "75%           45.00                  32.00       6.00               19.00   \n",
       "max        25111.00              138561.00   14865.00           129953.00   \n",
       "\n",
       "       duration  \n",
       "count  94468.00  \n",
       "mean       1.91  \n",
       "std        1.14  \n",
       "min        1.00  \n",
       "25%        1.00  \n",
       "50%        2.00  \n",
       "75%        2.00  \n",
       "max        6.00  "
      ]
     },
     "execution_count": 36,
     "metadata": {},
     "output_type": "execute_result"
    }
   ],
   "source": [
    "facebook_df.describe()"
   ]
  },
  {
   "cell_type": "markdown",
   "metadata": {},
   "source": [
    "We can see that the max age is now 99. So we have to now recreate the age bins"
   ]
  },
  {
   "cell_type": "code",
   "execution_count": 37,
   "metadata": {},
   "outputs": [],
   "source": [
    "facebook_df['age_bins'] = pd.cut(facebook_df['age'].dropna(),\n",
    "                            [0,18,28,38,48,58,68,78,88,99],\n",
    "                            labels=['<18','19-28','29-38','39-48','49-58','59-68','69-78','79-88','89-99'],include_lowest=True)\n",
    "                            \n"
   ]
  },
  {
   "cell_type": "code",
   "execution_count": 38,
   "metadata": {},
   "outputs": [
    {
     "data": {
      "text/plain": [
       "Text(0.5, 1.0, 'Age Group')"
      ]
     },
     "execution_count": 38,
     "metadata": {},
     "output_type": "execute_result"
    },
    {
     "data": {
      "image/png": "[encoded data removed]",
      "text/plain": [
       "<Figure size 576x432 with 1 Axes>"
      ]
     },
     "metadata": {
      "needs_background": "light"
     },
     "output_type": "display_data"
    }
   ],
   "source": [
    "fig,ax =plt.subplots(figsize=(8,6))\n",
    "sns.countplot(data = facebook_df,x = 'age_bins', hue='gender')\n",
    "plt.title('Age Group')"
   ]
  },
  {
   "cell_type": "markdown",
   "metadata": {},
   "source": [
    "This graph looks more appropriate to the actual living population. We can now drop age1_bins column as it is not required now"
   ]
  },
  {
   "cell_type": "code",
   "execution_count": 39,
   "metadata": {},
   "outputs": [
    {
     "data": {
      "text/html": [
       "<div>\n",
       "<style scoped>\n",
       "    .dataframe tbody tr th:only-of-type {\n",
       "        vertical-align: middle;\n",
       "    }\n",
       "\n",
       "    .dataframe tbody tr th {\n",
       "        vertical-align: top;\n",
       "    }\n",
       "\n",
       "    .dataframe thead th {\n",
       "        text-align: right;\n",
       "    }\n",
       "</style>\n",
       "<table border=\"1\" class=\"dataframe\">\n",
       "  <thead>\n",
       "    <tr style=\"text-align: right;\">\n",
       "      <th></th>\n",
       "      <th>userid</th>\n",
       "      <th>age</th>\n",
       "      <th>dob_day</th>\n",
       "      <th>dob_year</th>\n",
       "      <th>dob_month</th>\n",
       "      <th>gender</th>\n",
       "      <th>tenure</th>\n",
       "      <th>friend_count</th>\n",
       "      <th>friendships_initiated</th>\n",
       "      <th>likes</th>\n",
       "      <th>likes_received</th>\n",
       "      <th>mobile_likes</th>\n",
       "      <th>mobile_likes_received</th>\n",
       "      <th>www_likes</th>\n",
       "      <th>www_likes_received</th>\n",
       "      <th>DOB</th>\n",
       "      <th>duration</th>\n",
       "      <th>age_bins</th>\n",
       "    </tr>\n",
       "  </thead>\n",
       "  <tbody>\n",
       "    <tr>\n",
       "      <th>0</th>\n",
       "      <td>2094382</td>\n",
       "      <td>14</td>\n",
       "      <td>19</td>\n",
       "      <td>1999</td>\n",
       "      <td>11</td>\n",
       "      <td>male</td>\n",
       "      <td>266.00</td>\n",
       "      <td>0</td>\n",
       "      <td>0</td>\n",
       "      <td>0</td>\n",
       "      <td>0</td>\n",
       "      <td>0</td>\n",
       "      <td>0</td>\n",
       "      <td>0</td>\n",
       "      <td>0</td>\n",
       "      <td>1999-11-19</td>\n",
       "      <td>1</td>\n",
       "      <td>&lt;18</td>\n",
       "    </tr>\n",
       "    <tr>\n",
       "      <th>1</th>\n",
       "      <td>1192601</td>\n",
       "      <td>14</td>\n",
       "      <td>2</td>\n",
       "      <td>1999</td>\n",
       "      <td>11</td>\n",
       "      <td>female</td>\n",
       "      <td>6.00</td>\n",
       "      <td>0</td>\n",
       "      <td>0</td>\n",
       "      <td>0</td>\n",
       "      <td>0</td>\n",
       "      <td>0</td>\n",
       "      <td>0</td>\n",
       "      <td>0</td>\n",
       "      <td>0</td>\n",
       "      <td>1999-11-02</td>\n",
       "      <td>1</td>\n",
       "      <td>&lt;18</td>\n",
       "    </tr>\n",
       "    <tr>\n",
       "      <th>2</th>\n",
       "      <td>2083884</td>\n",
       "      <td>14</td>\n",
       "      <td>16</td>\n",
       "      <td>1999</td>\n",
       "      <td>11</td>\n",
       "      <td>male</td>\n",
       "      <td>13.00</td>\n",
       "      <td>0</td>\n",
       "      <td>0</td>\n",
       "      <td>0</td>\n",
       "      <td>0</td>\n",
       "      <td>0</td>\n",
       "      <td>0</td>\n",
       "      <td>0</td>\n",
       "      <td>0</td>\n",
       "      <td>1999-11-16</td>\n",
       "      <td>1</td>\n",
       "      <td>&lt;18</td>\n",
       "    </tr>\n",
       "    <tr>\n",
       "      <th>3</th>\n",
       "      <td>1203168</td>\n",
       "      <td>14</td>\n",
       "      <td>25</td>\n",
       "      <td>1999</td>\n",
       "      <td>12</td>\n",
       "      <td>female</td>\n",
       "      <td>93.00</td>\n",
       "      <td>0</td>\n",
       "      <td>0</td>\n",
       "      <td>0</td>\n",
       "      <td>0</td>\n",
       "      <td>0</td>\n",
       "      <td>0</td>\n",
       "      <td>0</td>\n",
       "      <td>0</td>\n",
       "      <td>1999-12-25</td>\n",
       "      <td>1</td>\n",
       "      <td>&lt;18</td>\n",
       "    </tr>\n",
       "    <tr>\n",
       "      <th>4</th>\n",
       "      <td>1733186</td>\n",
       "      <td>14</td>\n",
       "      <td>4</td>\n",
       "      <td>1999</td>\n",
       "      <td>12</td>\n",
       "      <td>male</td>\n",
       "      <td>82.00</td>\n",
       "      <td>0</td>\n",
       "      <td>0</td>\n",
       "      <td>0</td>\n",
       "      <td>0</td>\n",
       "      <td>0</td>\n",
       "      <td>0</td>\n",
       "      <td>0</td>\n",
       "      <td>0</td>\n",
       "      <td>1999-12-04</td>\n",
       "      <td>1</td>\n",
       "      <td>&lt;18</td>\n",
       "    </tr>\n",
       "    <tr>\n",
       "      <th>...</th>\n",
       "      <td>...</td>\n",
       "      <td>...</td>\n",
       "      <td>...</td>\n",
       "      <td>...</td>\n",
       "      <td>...</td>\n",
       "      <td>...</td>\n",
       "      <td>...</td>\n",
       "      <td>...</td>\n",
       "      <td>...</td>\n",
       "      <td>...</td>\n",
       "      <td>...</td>\n",
       "      <td>...</td>\n",
       "      <td>...</td>\n",
       "      <td>...</td>\n",
       "      <td>...</td>\n",
       "      <td>...</td>\n",
       "      <td>...</td>\n",
       "      <td>...</td>\n",
       "    </tr>\n",
       "    <tr>\n",
       "      <th>98998</th>\n",
       "      <td>1268299</td>\n",
       "      <td>68</td>\n",
       "      <td>4</td>\n",
       "      <td>1945</td>\n",
       "      <td>4</td>\n",
       "      <td>female</td>\n",
       "      <td>541.00</td>\n",
       "      <td>2118</td>\n",
       "      <td>341</td>\n",
       "      <td>3996</td>\n",
       "      <td>18089</td>\n",
       "      <td>3505</td>\n",
       "      <td>11887</td>\n",
       "      <td>491</td>\n",
       "      <td>6202</td>\n",
       "      <td>1945-04-04</td>\n",
       "      <td>2</td>\n",
       "      <td>59-68</td>\n",
       "    </tr>\n",
       "    <tr>\n",
       "      <th>98999</th>\n",
       "      <td>1256153</td>\n",
       "      <td>18</td>\n",
       "      <td>12</td>\n",
       "      <td>1995</td>\n",
       "      <td>3</td>\n",
       "      <td>female</td>\n",
       "      <td>21.00</td>\n",
       "      <td>1968</td>\n",
       "      <td>1720</td>\n",
       "      <td>4401</td>\n",
       "      <td>13412</td>\n",
       "      <td>4399</td>\n",
       "      <td>10592</td>\n",
       "      <td>2</td>\n",
       "      <td>2820</td>\n",
       "      <td>1995-03-12</td>\n",
       "      <td>1</td>\n",
       "      <td>&lt;18</td>\n",
       "    </tr>\n",
       "    <tr>\n",
       "      <th>99000</th>\n",
       "      <td>1195943</td>\n",
       "      <td>15</td>\n",
       "      <td>10</td>\n",
       "      <td>1998</td>\n",
       "      <td>5</td>\n",
       "      <td>female</td>\n",
       "      <td>111.00</td>\n",
       "      <td>2002</td>\n",
       "      <td>1524</td>\n",
       "      <td>11959</td>\n",
       "      <td>12554</td>\n",
       "      <td>11959</td>\n",
       "      <td>11462</td>\n",
       "      <td>0</td>\n",
       "      <td>1092</td>\n",
       "      <td>1998-05-10</td>\n",
       "      <td>1</td>\n",
       "      <td>&lt;18</td>\n",
       "    </tr>\n",
       "    <tr>\n",
       "      <th>99001</th>\n",
       "      <td>1468023</td>\n",
       "      <td>23</td>\n",
       "      <td>11</td>\n",
       "      <td>1990</td>\n",
       "      <td>4</td>\n",
       "      <td>female</td>\n",
       "      <td>416.00</td>\n",
       "      <td>2560</td>\n",
       "      <td>185</td>\n",
       "      <td>4506</td>\n",
       "      <td>6516</td>\n",
       "      <td>4506</td>\n",
       "      <td>5760</td>\n",
       "      <td>0</td>\n",
       "      <td>756</td>\n",
       "      <td>1990-04-11</td>\n",
       "      <td>2</td>\n",
       "      <td>19-28</td>\n",
       "    </tr>\n",
       "    <tr>\n",
       "      <th>99002</th>\n",
       "      <td>1397896</td>\n",
       "      <td>39</td>\n",
       "      <td>15</td>\n",
       "      <td>1974</td>\n",
       "      <td>5</td>\n",
       "      <td>female</td>\n",
       "      <td>397.00</td>\n",
       "      <td>2049</td>\n",
       "      <td>768</td>\n",
       "      <td>9410</td>\n",
       "      <td>12443</td>\n",
       "      <td>9410</td>\n",
       "      <td>9530</td>\n",
       "      <td>0</td>\n",
       "      <td>2913</td>\n",
       "      <td>1974-05-15</td>\n",
       "      <td>2</td>\n",
       "      <td>39-48</td>\n",
       "    </tr>\n",
       "  </tbody>\n",
       "</table>\n",
       "<p>94468 rows × 18 columns</p>\n",
       "</div>"
      ],
      "text/plain": [
       "        userid  age  dob_day  dob_year  dob_month  gender  tenure  \\\n",
       "0      2094382   14       19      1999         11    male  266.00   \n",
       "1      1192601   14        2      1999         11  female    6.00   \n",
       "2      2083884   14       16      1999         11    male   13.00   \n",
       "3      1203168   14       25      1999         12  female   93.00   \n",
       "4      1733186   14        4      1999         12    male   82.00   \n",
       "...        ...  ...      ...       ...        ...     ...     ...   \n",
       "98998  1268299   68        4      1945          4  female  541.00   \n",
       "98999  1256153   18       12      1995          3  female   21.00   \n",
       "99000  1195943   15       10      1998          5  female  111.00   \n",
       "99001  1468023   23       11      1990          4  female  416.00   \n",
       "99002  1397896   39       15      1974          5  female  397.00   \n",
       "\n",
       "       friend_count  friendships_initiated  likes  likes_received  \\\n",
       "0                 0                      0      0               0   \n",
       "1                 0                      0      0               0   \n",
       "2                 0                      0      0               0   \n",
       "3                 0                      0      0               0   \n",
       "4                 0                      0      0               0   \n",
       "...             ...                    ...    ...             ...   \n",
       "98998          2118                    341   3996           18089   \n",
       "98999          1968                   1720   4401           13412   \n",
       "99000          2002                   1524  11959           12554   \n",
       "99001          2560                    185   4506            6516   \n",
       "99002          2049                    768   9410           12443   \n",
       "\n",
       "       mobile_likes  mobile_likes_received  www_likes  www_likes_received  \\\n",
       "0                 0                      0          0                   0   \n",
       "1                 0                      0          0                   0   \n",
       "2                 0                      0          0                   0   \n",
       "3                 0                      0          0                   0   \n",
       "4                 0                      0          0                   0   \n",
       "...             ...                    ...        ...                 ...   \n",
       "98998          3505                  11887        491                6202   \n",
       "98999          4399                  10592          2                2820   \n",
       "99000         11959                  11462          0                1092   \n",
       "99001          4506                   5760          0                 756   \n",
       "99002          9410                   9530          0                2913   \n",
       "\n",
       "             DOB  duration age_bins  \n",
       "0     1999-11-19         1      <18  \n",
       "1     1999-11-02         1      <18  \n",
       "2     1999-11-16         1      <18  \n",
       "3     1999-12-25         1      <18  \n",
       "4     1999-12-04         1      <18  \n",
       "...          ...       ...      ...  \n",
       "98998 1945-04-04         2    59-68  \n",
       "98999 1995-03-12         1      <18  \n",
       "99000 1998-05-10         1      <18  \n",
       "99001 1990-04-11         2    19-28  \n",
       "99002 1974-05-15         2    39-48  \n",
       "\n",
       "[94468 rows x 18 columns]"
      ]
     },
     "execution_count": 39,
     "metadata": {},
     "output_type": "execute_result"
    }
   ],
   "source": [
    "facebook_df.drop(['age1_bins'], axis=1)"
   ]
  },
  {
   "cell_type": "markdown",
   "metadata": {},
   "source": [
    "### Outliers"
   ]
  },
  {
   "cell_type": "code",
   "execution_count": 40,
   "metadata": {},
   "outputs": [
    {
     "data": {
      "text/html": [
       "<div>\n",
       "<style scoped>\n",
       "    .dataframe tbody tr th:only-of-type {\n",
       "        vertical-align: middle;\n",
       "    }\n",
       "\n",
       "    .dataframe tbody tr th {\n",
       "        vertical-align: top;\n",
       "    }\n",
       "\n",
       "    .dataframe thead th {\n",
       "        text-align: right;\n",
       "    }\n",
       "</style>\n",
       "<table border=\"1\" class=\"dataframe\">\n",
       "  <thead>\n",
       "    <tr style=\"text-align: right;\">\n",
       "      <th></th>\n",
       "      <th>userid</th>\n",
       "      <th>age</th>\n",
       "      <th>dob_day</th>\n",
       "      <th>dob_year</th>\n",
       "      <th>dob_month</th>\n",
       "      <th>tenure</th>\n",
       "      <th>friend_count</th>\n",
       "      <th>friendships_initiated</th>\n",
       "      <th>likes</th>\n",
       "      <th>likes_received</th>\n",
       "      <th>mobile_likes</th>\n",
       "      <th>mobile_likes_received</th>\n",
       "      <th>www_likes</th>\n",
       "      <th>www_likes_received</th>\n",
       "      <th>duration</th>\n",
       "    </tr>\n",
       "  </thead>\n",
       "  <tbody>\n",
       "    <tr>\n",
       "      <th>count</th>\n",
       "      <td>94468.00</td>\n",
       "      <td>94468.00</td>\n",
       "      <td>94468.00</td>\n",
       "      <td>94468.00</td>\n",
       "      <td>94468.00</td>\n",
       "      <td>94468.00</td>\n",
       "      <td>94468.00</td>\n",
       "      <td>94468.00</td>\n",
       "      <td>94468.00</td>\n",
       "      <td>94468.00</td>\n",
       "      <td>94468.00</td>\n",
       "      <td>94468.00</td>\n",
       "      <td>94468.00</td>\n",
       "      <td>94468.00</td>\n",
       "      <td>94468.00</td>\n",
       "    </tr>\n",
       "    <tr>\n",
       "      <th>mean</th>\n",
       "      <td>1597507.65</td>\n",
       "      <td>34.24</td>\n",
       "      <td>14.53</td>\n",
       "      <td>1978.76</td>\n",
       "      <td>6.29</td>\n",
       "      <td>504.79</td>\n",
       "      <td>187.68</td>\n",
       "      <td>103.86</td>\n",
       "      <td>155.92</td>\n",
       "      <td>142.65</td>\n",
       "      <td>106.34</td>\n",
       "      <td>83.90</td>\n",
       "      <td>49.58</td>\n",
       "      <td>58.75</td>\n",
       "      <td>1.91</td>\n",
       "    </tr>\n",
       "    <tr>\n",
       "      <th>std</th>\n",
       "      <td>344051.01</td>\n",
       "      <td>17.93</td>\n",
       "      <td>8.99</td>\n",
       "      <td>17.93</td>\n",
       "      <td>3.52</td>\n",
       "      <td>416.01</td>\n",
       "      <td>375.77</td>\n",
       "      <td>185.30</td>\n",
       "      <td>577.31</td>\n",
       "      <td>1415.32</td>\n",
       "      <td>449.00</td>\n",
       "      <td>853.69</td>\n",
       "      <td>288.28</td>\n",
       "      <td>614.59</td>\n",
       "      <td>1.14</td>\n",
       "    </tr>\n",
       "    <tr>\n",
       "      <th>min</th>\n",
       "      <td>1000008.00</td>\n",
       "      <td>13.00</td>\n",
       "      <td>1.00</td>\n",
       "      <td>1914.00</td>\n",
       "      <td>1.00</td>\n",
       "      <td>0.00</td>\n",
       "      <td>0.00</td>\n",
       "      <td>0.00</td>\n",
       "      <td>0.00</td>\n",
       "      <td>0.00</td>\n",
       "      <td>0.00</td>\n",
       "      <td>0.00</td>\n",
       "      <td>0.00</td>\n",
       "      <td>0.00</td>\n",
       "      <td>1.00</td>\n",
       "    </tr>\n",
       "    <tr>\n",
       "      <th>25%</th>\n",
       "      <td>1299453.25</td>\n",
       "      <td>20.00</td>\n",
       "      <td>7.00</td>\n",
       "      <td>1967.00</td>\n",
       "      <td>3.00</td>\n",
       "      <td>221.00</td>\n",
       "      <td>30.00</td>\n",
       "      <td>16.00</td>\n",
       "      <td>1.00</td>\n",
       "      <td>0.00</td>\n",
       "      <td>0.00</td>\n",
       "      <td>0.00</td>\n",
       "      <td>0.00</td>\n",
       "      <td>0.00</td>\n",
       "      <td>1.00</td>\n",
       "    </tr>\n",
       "    <tr>\n",
       "      <th>50%</th>\n",
       "      <td>1596813.50</td>\n",
       "      <td>27.00</td>\n",
       "      <td>14.00</td>\n",
       "      <td>1986.00</td>\n",
       "      <td>6.00</td>\n",
       "      <td>400.00</td>\n",
       "      <td>78.00</td>\n",
       "      <td>44.00</td>\n",
       "      <td>10.00</td>\n",
       "      <td>8.00</td>\n",
       "      <td>4.00</td>\n",
       "      <td>4.00</td>\n",
       "      <td>0.00</td>\n",
       "      <td>2.00</td>\n",
       "      <td>2.00</td>\n",
       "    </tr>\n",
       "    <tr>\n",
       "      <th>75%</th>\n",
       "      <td>1896393.25</td>\n",
       "      <td>46.00</td>\n",
       "      <td>22.00</td>\n",
       "      <td>1993.00</td>\n",
       "      <td>9.00</td>\n",
       "      <td>640.00</td>\n",
       "      <td>196.00</td>\n",
       "      <td>112.00</td>\n",
       "      <td>79.00</td>\n",
       "      <td>57.00</td>\n",
       "      <td>45.00</td>\n",
       "      <td>32.00</td>\n",
       "      <td>6.00</td>\n",
       "      <td>19.00</td>\n",
       "      <td>2.00</td>\n",
       "    </tr>\n",
       "    <tr>\n",
       "      <th>max</th>\n",
       "      <td>2193542.00</td>\n",
       "      <td>99.00</td>\n",
       "      <td>31.00</td>\n",
       "      <td>2000.00</td>\n",
       "      <td>12.00</td>\n",
       "      <td>2189.00</td>\n",
       "      <td>4917.00</td>\n",
       "      <td>4144.00</td>\n",
       "      <td>25111.00</td>\n",
       "      <td>261197.00</td>\n",
       "      <td>25111.00</td>\n",
       "      <td>138561.00</td>\n",
       "      <td>14865.00</td>\n",
       "      <td>129953.00</td>\n",
       "      <td>6.00</td>\n",
       "    </tr>\n",
       "  </tbody>\n",
       "</table>\n",
       "</div>"
      ],
      "text/plain": [
       "          userid      age  dob_day  dob_year  dob_month   tenure  \\\n",
       "count   94468.00 94468.00 94468.00  94468.00   94468.00 94468.00   \n",
       "mean  1597507.65    34.24    14.53   1978.76       6.29   504.79   \n",
       "std    344051.01    17.93     8.99     17.93       3.52   416.01   \n",
       "min   1000008.00    13.00     1.00   1914.00       1.00     0.00   \n",
       "25%   1299453.25    20.00     7.00   1967.00       3.00   221.00   \n",
       "50%   1596813.50    27.00    14.00   1986.00       6.00   400.00   \n",
       "75%   1896393.25    46.00    22.00   1993.00       9.00   640.00   \n",
       "max   2193542.00    99.00    31.00   2000.00      12.00  2189.00   \n",
       "\n",
       "       friend_count  friendships_initiated    likes  likes_received  \\\n",
       "count      94468.00               94468.00 94468.00        94468.00   \n",
       "mean         187.68                 103.86   155.92          142.65   \n",
       "std          375.77                 185.30   577.31         1415.32   \n",
       "min            0.00                   0.00     0.00            0.00   \n",
       "25%           30.00                  16.00     1.00            0.00   \n",
       "50%           78.00                  44.00    10.00            8.00   \n",
       "75%          196.00                 112.00    79.00           57.00   \n",
       "max         4917.00                4144.00 25111.00       261197.00   \n",
       "\n",
       "       mobile_likes  mobile_likes_received  www_likes  www_likes_received  \\\n",
       "count      94468.00               94468.00   94468.00            94468.00   \n",
       "mean         106.34                  83.90      49.58               58.75   \n",
       "std          449.00                 853.69     288.28              614.59   \n",
       "min            0.00                   0.00       0.00                0.00   \n",
       "25%            0.00                   0.00       0.00                0.00   \n",
       "50%            4.00                   4.00       0.00                2.00   \n",
       "75%           45.00                  32.00       6.00               19.00   \n",
       "max        25111.00              138561.00   14865.00           129953.00   \n",
       "\n",
       "       duration  \n",
       "count  94468.00  \n",
       "mean       1.91  \n",
       "std        1.14  \n",
       "min        1.00  \n",
       "25%        1.00  \n",
       "50%        2.00  \n",
       "75%        2.00  \n",
       "max        6.00  "
      ]
     },
     "execution_count": 40,
     "metadata": {},
     "output_type": "execute_result"
    }
   ],
   "source": [
    "facebook_df.describe()"
   ]
  },
  {
   "cell_type": "markdown",
   "metadata": {},
   "source": [
    "We can see there are no outliers. Lets analyze by each column. userid is unique, so no changes. age, we had handled above, so no changes. dob all 3 columns nothing to infer here. The tenure, friendship and likes recieved, likes given also look normal, so no columns to drop. we can analyze this after post profiling once as well, to check on the outliers"
   ]
  },
  {
   "cell_type": "markdown",
   "metadata": {},
   "source": [
    "## Post-Profiling of data"
   ]
  },
  {
   "cell_type": "code",
   "execution_count": 41,
   "metadata": {},
   "outputs": [
    {
     "data": {
      "application/vnd.jupyter.widget-view+json": {
       "model_id": "e7974626797e4b959113c5d5dd85e546",
       "version_major": 2,
       "version_minor": 0
      },
      "text/plain": [
       "HBox(children=(FloatProgress(value=0.0, description='Summarize dataset', max=34.0, style=ProgressStyle(descrip…"
      ]
     },
     "metadata": {},
     "output_type": "display_data"
    },
    {
     "name": "stdout",
     "output_type": "stream",
     "text": [
      "\n"
     ]
    },
    {
     "data": {
      "application/vnd.jupyter.widget-view+json": {
       "model_id": "daa4c966e77947e2b67cdf0fa0353b16",
       "version_major": 2,
       "version_minor": 0
      },
      "text/plain": [
       "HBox(children=(FloatProgress(value=0.0, description='Generate report structure', max=1.0, style=ProgressStyle(…"
      ]
     },
     "metadata": {},
     "output_type": "display_data"
    },
    {
     "name": "stdout",
     "output_type": "stream",
     "text": [
      "\n"
     ]
    },
    {
     "data": {
      "application/vnd.jupyter.widget-view+json": {
       "model_id": "3cc8751e846149959ab7c8b19e3909ee",
       "version_major": 2,
       "version_minor": 0
      },
      "text/plain": [
       "HBox(children=(FloatProgress(value=0.0, description='Render HTML', max=1.0, style=ProgressStyle(description_wi…"
      ]
     },
     "metadata": {},
     "output_type": "display_data"
    },
    {
     "name": "stdout",
     "output_type": "stream",
     "text": [
      "\n"
     ]
    },
    {
     "data": {
      "application/vnd.jupyter.widget-view+json": {
       "model_id": "179caee61836474ea4588ea6b9b8c8fc",
       "version_major": 2,
       "version_minor": 0
      },
      "text/plain": [
       "HBox(children=(FloatProgress(value=0.0, description='Export report to file', max=1.0, style=ProgressStyle(desc…"
      ]
     },
     "metadata": {},
     "output_type": "display_data"
    },
    {
     "name": "stdout",
     "output_type": "stream",
     "text": [
      "\n"
     ]
    }
   ],
   "source": [
    "profile = pandas_profiling.ProfileReport(facebook_df)\n",
    "profile.to_file(output_file= 'Facebook_Project_profiling_after_preprocessing.html')"
   ]
  },
  {
   "cell_type": "markdown",
   "metadata": {},
   "source": [
    "#### Post-Profiling data Inference"
   ]
  },
  {
   "cell_type": "markdown",
   "metadata": {},
   "source": [
    "Based on all the data pre-processing done, our post profiling report is reflecting the changes and it looks good. Also analysed again for outliers, there could be chances that a post could have recieved high likes recieved, high likes given. So we will continue to use them and not drop the data. E.g. Generally when the celeberties post data, the likes received is very high, so using those data and the userid; we can identify if they are celeberity or not. Since we dont have userid mapping to profile, we will retain it for now\n",
    "\n"
   ]
  },
  {
   "cell_type": "markdown",
   "metadata": {},
   "source": [
    "# EDA"
   ]
  },
  {
   "cell_type": "markdown",
   "metadata": {},
   "source": [
    "Exploratory Data Analysis **(EDA)** is an approach to analyzing datasets to summarize their main characteristics, often with visual methods. **EDA** is used for seeing what the data can tell us before the modeling task\n",
    "In simple words **EDA** helps to gain an understanding of data and find clues from the data,\n",
    "\n",
    "1.\tto formulate assumptions and hypothesis for our modelling; and\n",
    "2.\tto check the quality of data for further processing and cleaning if necessary.\n"
   ]
  },
  {
   "cell_type": "markdown",
   "metadata": {},
   "source": [
    "## **EDA** - Ask right questions"
   ]
  },
  {
   "cell_type": "markdown",
   "metadata": {},
   "source": [
    "**Exploratory Data Analysis** is majorly performed using the following methods: \n",
    "1.\t**Univariate visualization/analysis** — provides summary statistics for each field in the raw data set. \n",
    "2.\t**Bivariate visualization/analysis** — is performed to find the relationship between each variable in the dataset and the target variable of interest. \n",
    "3.\tSimilarly, we can also do **Multivariate or multithemed analysis**.\n",
    "4.\t**Macro to Micro analysis** : A micro perspective focuses on the individual level, while a macro perspective focuses more broadly \n"
   ]
  },
  {
   "cell_type": "markdown",
   "metadata": {},
   "source": [
    "###  Univariate analysis"
   ]
  },
  {
   "cell_type": "markdown",
   "metadata": {},
   "source": [
    "We have 7 groups of data\n",
    "1.\tGender\n",
    "2.\tAge\n",
    "3.\tTenure\n",
    "4.\tLikes given<br>\n",
    "    a.\tIncludes likes on mobile app<br>\n",
    "    b.\tIncludes likes on web app<br>\n",
    "5.\tLikes Received<br>\n",
    "    a.\tIncludes likes received on mobile app<br>\n",
    "    b.\tIncludes likes received on web app<br>\n",
    "6.\tFriendship initiated\n",
    "7.\tFriendship count\n",
    "\n",
    "So let us see spread of data - **Gender**"
   ]
  },
  {
   "cell_type": "code",
   "execution_count": 42,
   "metadata": {},
   "outputs": [
    {
     "data": {
      "image/png": "[encoded data removed]",
      "text/plain": [
       "<Figure size 720x576 with 1 Axes>"
      ]
     },
     "metadata": {},
     "output_type": "display_data"
    }
   ],
   "source": [
    "plt.figure(figsize=(10,8))\n",
    "\n",
    "facebook_df['gender'].value_counts().plot(kind='pie', fontsize =14, autopct='%3.1f%%', legend = True, explode =[0.01,0.01])\n",
    "plt.ylabel('gender',fontsize =14)\n",
    "plt.savefig('fbpdfile.jpg', bbox_inches = 'tight', dpi =300)\n",
    "plt.title('Gender distribution')\n",
    "plt.show()\n"
   ]
  },
  {
   "cell_type": "markdown",
   "metadata": {},
   "source": [
    "**Gender Distribution**<br>\n",
    "Inference: The usage of Men is higher than Women"
   ]
  },
  {
   "cell_type": "markdown",
   "metadata": {},
   "source": [
    "### Multivariate Analysis\n",
    "\n"
   ]
  },
  {
   "cell_type": "markdown",
   "metadata": {},
   "source": [
    "#### Gender\n",
    "\n",
    "Now let us see how Gender compares with other data."
   ]
  },
  {
   "cell_type": "markdown",
   "metadata": {},
   "source": [
    "##### Gender vs Age group"
   ]
  },
  {
   "cell_type": "code",
   "execution_count": 43,
   "metadata": {},
   "outputs": [
    {
     "data": {
      "text/plain": [
       "Text(0.5, 1.0, 'Gender vs Age Group')"
      ]
     },
     "execution_count": 43,
     "metadata": {},
     "output_type": "execute_result"
    },
    {
     "data": {
      "image/png": "[encoded data removed]",
      "text/plain": [
       "<Figure size 576x432 with 1 Axes>"
      ]
     },
     "metadata": {
      "needs_background": "light"
     },
     "output_type": "display_data"
    }
   ],
   "source": [
    "fig,ax =plt.subplots(figsize=(8,6))\n",
    "sns.countplot(data = facebook_df,x = 'age_bins', hue='gender')\n",
    "plt.title('Gender vs Age Group')"
   ]
  },
  {
   "cell_type": "markdown",
   "metadata": {},
   "source": [
    "**Gender Vs Age group** Inference: Majority we can say that men are higher than women in all age groups, except a few. Taking a majority, we can conclue men are higher than women in most age groups. "
   ]
  },
  {
   "cell_type": "markdown",
   "metadata": {},
   "source": [
    "##### Gender vs Tenure"
   ]
  },
  {
   "cell_type": "code",
   "execution_count": 44,
   "metadata": {},
   "outputs": [
    {
     "data": {
      "text/plain": [
       "Text(0.5, 1.0, 'Gender vs Duration')"
      ]
     },
     "execution_count": 44,
     "metadata": {},
     "output_type": "execute_result"
    },
    {
     "data": {
      "image/png": "[encoded data removed]",
      "text/plain": [
       "<Figure size 576x432 with 1 Axes>"
      ]
     },
     "metadata": {
      "needs_background": "light"
     },
     "output_type": "display_data"
    }
   ],
   "source": [
    "fig,ax =plt.subplots(figsize=(8,6))\n",
    "sns.countplot(data = facebook_df,x = 'duration', hue='gender')\n",
    "plt.title('Gender vs Duration')"
   ]
  },
  {
   "cell_type": "markdown",
   "metadata": {},
   "source": [
    "**Gender vs Tenure** Inference: Upto 4 years of facebook usage, the men count is high than women and after 5 years more women than men"
   ]
  },
  {
   "cell_type": "markdown",
   "metadata": {},
   "source": [
    "##### Gender vs Likes given"
   ]
  },
  {
   "cell_type": "code",
   "execution_count": 45,
   "metadata": {},
   "outputs": [
    {
     "data": {
      "text/plain": [
       "<matplotlib.legend.Legend at 0x20465d1d648>"
      ]
     },
     "execution_count": 45,
     "metadata": {},
     "output_type": "execute_result"
    },
    {
     "data": {
      "image/png": "[encoded data removed]",
      "text/plain": [
       "<Figure size 1080x504 with 1 Axes>"
      ]
     },
     "metadata": {
      "needs_background": "light"
     },
     "output_type": "display_data"
    }
   ],
   "source": [
    "\n",
    "facebook_df.groupby(['gender'])['mobile_likes'].mean().plot(kind='bar', figsize=(15, 7), color='grey')\n",
    "facebook_df.groupby(['gender'])['www_likes'].mean().plot(kind='bar', figsize=(15, 7), color='orange', fontsize=13)\n",
    "\n",
    "plt.xlabel('gender')\n",
    "plt.ylabel('likes given')\n",
    "plt.title('Stacked Bar Chart showing the likes given of each gender')\n",
    "plt.legend(labels=( 'mobile_likes', 'www_likes'))"
   ]
  },
  {
   "cell_type": "markdown",
   "metadata": {},
   "source": [
    "**Gender vs Likes given** Inference : Women are more active and have given more likes than men"
   ]
  },
  {
   "cell_type": "markdown",
   "metadata": {},
   "source": [
    "##### Gender vs Likes received"
   ]
  },
  {
   "cell_type": "code",
   "execution_count": 46,
   "metadata": {},
   "outputs": [
    {
     "data": {
      "text/plain": [
       "<matplotlib.legend.Legend at 0x20465ac3808>"
      ]
     },
     "execution_count": 46,
     "metadata": {},
     "output_type": "execute_result"
    },
    {
     "data": {
      "image/png": "[encoded data removed]",
      "text/plain": [
       "<Figure size 1080x504 with 1 Axes>"
      ]
     },
     "metadata": {
      "needs_background": "light"
     },
     "output_type": "display_data"
    }
   ],
   "source": [
    "\n",
    "facebook_df.groupby(['gender'])['mobile_likes_received'].mean().plot(kind='bar', figsize=(15, 7), color='grey')\n",
    "facebook_df.groupby(['gender'])['www_likes_received'].mean().plot(kind='bar', figsize=(15, 7), color='orange', fontsize=13)\n",
    "\n",
    "plt.xlabel('gender')\n",
    "plt.ylabel('likes recieved')\n",
    "plt.title('Stacked Bar Chart showing the likes recieved of each gender')\n",
    "plt.legend(labels=( 'mobile_likes_received', 'www_likes_received'))"
   ]
  },
  {
   "cell_type": "markdown",
   "metadata": {},
   "source": [
    "**Gender Vs Likes Received** Inference: Women have received more likes than men. "
   ]
  },
  {
   "cell_type": "markdown",
   "metadata": {},
   "source": [
    "##### Gender vs Friendship (Friendship initiated and Friendship counts)"
   ]
  },
  {
   "cell_type": "code",
   "execution_count": 47,
   "metadata": {},
   "outputs": [
    {
     "data": {
      "text/plain": [
       "<matplotlib.legend.Legend at 0x204657e2c88>"
      ]
     },
     "execution_count": 47,
     "metadata": {},
     "output_type": "execute_result"
    },
    {
     "data": {
      "image/png": "[encoded data removed]",
      "text/plain": [
       "<Figure size 1080x504 with 1 Axes>"
      ]
     },
     "metadata": {
      "needs_background": "light"
     },
     "output_type": "display_data"
    }
   ],
   "source": [
    "facebook_df.groupby(['gender'])['friend_count'].mean().plot(kind='bar', figsize=(15, 7), color='orange')\n",
    "facebook_df.groupby(['gender'])['friendships_initiated'].mean().plot(kind='bar', figsize=(15, 7), color='grey')\n",
    "\n",
    "\n",
    "plt.xlabel('gender')\n",
    "plt.ylabel('friend_count')\n",
    "plt.title('Stacked Bar Chart showing the friend count & friendship initiated for each gender')\n",
    "plt.legend(labels=('friend_count', 'friendships_initiated'))"
   ]
  },
  {
   "cell_type": "markdown",
   "metadata": {},
   "source": [
    "**Gender vs friendship** ( Friendship initiated & Friendship count)\n",
    "Inference: Women have more friends than men (typical like real world). However they both have almost similar pattern in initiating friendship\n",
    "\n"
   ]
  },
  {
   "cell_type": "markdown",
   "metadata": {},
   "source": [
    "#### Age\n",
    "\n",
    "Now let us see how Age compares with other data."
   ]
  },
  {
   "cell_type": "markdown",
   "metadata": {},
   "source": [
    "##### Age Vs Gender"
   ]
  },
  {
   "cell_type": "markdown",
   "metadata": {},
   "source": [
    "Analysis: we have already analyzed this category above as \"Gender vs Age\", so we will not be analyzing this data again"
   ]
  },
  {
   "cell_type": "markdown",
   "metadata": {},
   "source": [
    "##### Age Vs Likes given"
   ]
  },
  {
   "cell_type": "code",
   "execution_count": 48,
   "metadata": {},
   "outputs": [
    {
     "data": {
      "text/plain": [
       "<matplotlib.legend.Legend at 0x204654fa408>"
      ]
     },
     "execution_count": 48,
     "metadata": {},
     "output_type": "execute_result"
    },
    {
     "data": {
      "image/png": "[encoded data removed]",
      "text/plain": [
       "<Figure size 1080x504 with 1 Axes>"
      ]
     },
     "metadata": {
      "needs_background": "light"
     },
     "output_type": "display_data"
    }
   ],
   "source": [
    "\n",
    "facebook_df.groupby(['age_bins'])['mobile_likes'].mean().plot(kind='bar', figsize=(15, 7), color='grey')\n",
    "facebook_df.groupby(['age_bins'])['www_likes'].mean().plot(kind='bar', figsize=(15, 7), color='lightcoral', fontsize=13)\n",
    "\n",
    "plt.xlabel('age_bins')\n",
    "plt.ylabel('likes given')\n",
    "plt.title('Stacked Bar Chart showing the likes given of each age group')\n",
    "plt.legend(labels=( 'mobile_likes', 'www_likes'))"
   ]
  },
  {
   "cell_type": "markdown",
   "metadata": {},
   "source": [
    "**Age vs Likes Given** Inference: \"Minors\" have given more likes. The counts after that are similar with Mobile likes being higher than web likes"
   ]
  },
  {
   "cell_type": "markdown",
   "metadata": {},
   "source": [
    "##### Age Vs Likes received"
   ]
  },
  {
   "cell_type": "code",
   "execution_count": 49,
   "metadata": {},
   "outputs": [
    {
     "data": {
      "text/plain": [
       "<matplotlib.legend.Legend at 0x20463366bc8>"
      ]
     },
     "execution_count": 49,
     "metadata": {},
     "output_type": "execute_result"
    },
    {
     "data": {
      "image/png": "[encoded data removed]",
      "text/plain": [
       "<Figure size 1080x504 with 1 Axes>"
      ]
     },
     "metadata": {
      "needs_background": "light"
     },
     "output_type": "display_data"
    }
   ],
   "source": [
    "\n",
    "facebook_df.groupby(['age_bins'])['mobile_likes_received'].mean().plot(kind='bar', figsize=(15, 7), color='grey')\n",
    "facebook_df.groupby(['age_bins'])['www_likes_received'].mean().plot(kind='bar', figsize=(15, 7), color='gold', fontsize=13)\n",
    "\n",
    "plt.xlabel('age_bins')\n",
    "plt.ylabel('likes recieved')\n",
    "plt.title('Stacked Bar Chart showing the likes recieved of each age group')\n",
    "plt.legend(labels=( 'mobile_likes_received', 'www_likes_received'))"
   ]
  },
  {
   "cell_type": "markdown",
   "metadata": {},
   "source": [
    "**Age Grop vs Likes Recieved** Inference: Across all age groups we see that mobile likes are higher than web likes, also mobile likes is reduced in 60-80 years category. Minors continue to have recieved more likes and are more active. "
   ]
  },
  {
   "cell_type": "markdown",
   "metadata": {},
   "source": [
    "##### Age Vs Friendship counts - Genderwise classification"
   ]
  },
  {
   "cell_type": "code",
   "execution_count": 50,
   "metadata": {},
   "outputs": [
    {
     "data": {
      "text/plain": [
       "Text(0.5, 1.0, 'Age group vs Friends count per gender')"
      ]
     },
     "execution_count": 50,
     "metadata": {},
     "output_type": "execute_result"
    },
    {
     "data": {
      "image/png": "[encoded data removed]",
      "text/plain": [
       "<Figure size 720x432 with 1 Axes>"
      ]
     },
     "metadata": {
      "needs_background": "light"
     },
     "output_type": "display_data"
    }
   ],
   "source": [
    "plt.figure(figsize=(10,6))\n",
    "sns.barplot(x='age_bins', y= \"friend_count\", hue='gender', data = facebook_df)\n",
    "plt.title('Age group vs Friends count per gender')"
   ]
  },
  {
   "cell_type": "markdown",
   "metadata": {},
   "source": [
    "**Age group vs Friends count per gender** Inference: Men have lower friend count than women and the men count slightly increases as they age"
   ]
  },
  {
   "cell_type": "markdown",
   "metadata": {},
   "source": [
    "##### Age vs Friendship Initiated - Genderwise classification"
   ]
  },
  {
   "cell_type": "code",
   "execution_count": 51,
   "metadata": {},
   "outputs": [
    {
     "data": {
      "text/plain": [
       "Text(0.5, 1.0, 'Age group vs Friendship Initiated per gender')"
      ]
     },
     "execution_count": 51,
     "metadata": {},
     "output_type": "execute_result"
    },
    {
     "data": {
      "image/png": "[encoded data removed]",
      "text/plain": [
       "<Figure size 720x432 with 1 Axes>"
      ]
     },
     "metadata": {
      "needs_background": "light"
     },
     "output_type": "display_data"
    }
   ],
   "source": [
    "plt.figure(figsize=(10,6))\n",
    "sns.barplot(x='age_bins', y= \"friendships_initiated\", hue='gender', data = facebook_df)\n",
    "plt.title('Age group vs Friendship Initiated per gender')"
   ]
  },
  {
   "cell_type": "markdown",
   "metadata": {},
   "source": [
    "**Age group vs Friendship initiated per gender** Inference:Similar to friend count, the friendship initiated also follows the same pattern. Men initiating lower friendship request than women and the trend slight changes in higher ages \n"
   ]
  },
  {
   "cell_type": "markdown",
   "metadata": {},
   "source": [
    "### Groupby multiple group Analysis"
   ]
  },
  {
   "cell_type": "markdown",
   "metadata": {},
   "source": [
    "#### Groupby -Age Category"
   ]
  },
  {
   "cell_type": "code",
   "execution_count": 52,
   "metadata": {},
   "outputs": [],
   "source": [
    "usage = ['userid','mobile_likes', 'www_likes', 'mobile_likes_received', 'www_likes_received', 'friend_count', 'friendships_initiated']"
   ]
  },
  {
   "cell_type": "code",
   "execution_count": 53,
   "metadata": {},
   "outputs": [
    {
     "data": {
      "image/png": "[encoded data removed]",
      "text/plain": [
       "<Figure size 1080x360 with 1 Axes>"
      ]
     },
     "metadata": {
      "needs_background": "light"
     },
     "output_type": "display_data"
    },
    {
     "data": {
      "image/png": "[encoded data removed]",
      "text/plain": [
       "<Figure size 1080x360 with 1 Axes>"
      ]
     },
     "metadata": {
      "needs_background": "light"
     },
     "output_type": "display_data"
    },
    {
     "data": {
      "image/png": "[encoded data removed]",
      "text/plain": [
       "<Figure size 1080x360 with 1 Axes>"
      ]
     },
     "metadata": {
      "needs_background": "light"
     },
     "output_type": "display_data"
    },
    {
     "data": {
      "image/png": "[encoded data removed]",
      "text/plain": [
       "<Figure size 1080x360 with 1 Axes>"
      ]
     },
     "metadata": {
      "needs_background": "light"
     },
     "output_type": "display_data"
    },
    {
     "data": {
      "image/png": "[encoded data removed]",
      "text/plain": [
       "<Figure size 1080x360 with 1 Axes>"
      ]
     },
     "metadata": {
      "needs_background": "light"
     },
     "output_type": "display_data"
    },
    {
     "data": {
      "image/png": "[encoded data removed]",
      "text/plain": [
       "<Figure size 1080x360 with 1 Axes>"
      ]
     },
     "metadata": {
      "needs_background": "light"
     },
     "output_type": "display_data"
    },
    {
     "data": {
      "image/png": "[encoded data removed]",
      "text/plain": [
       "<Figure size 1080x360 with 1 Axes>"
      ]
     },
     "metadata": {
      "needs_background": "light"
     },
     "output_type": "display_data"
    }
   ],
   "source": [
    "for value in usage:\n",
    "    plt.figure(figsize=(15,5))\n",
    "    facebook_df[ facebook_df['gender'] == 'female'].groupby(['age_bins'])[value].mean().plot(kind='barh', color='crimson', )\n",
    "    facebook_df[ facebook_df['gender'] == 'male'].groupby(['age_bins'])[value].mean().plot(kind='barh', color='blue', fontsize=13)\n",
    "    plt.ylabel(value)\n",
    "    plt.legend(['female', 'male'])"
   ]
  },
  {
   "cell_type": "markdown",
   "metadata": {},
   "source": [
    "**Groupby-Age Category** Inference: As seen in the individual charts we can see that minors are active, women are more active and men count is high. The usage spikes slightly after 80 years  "
   ]
  },
  {
   "cell_type": "markdown",
   "metadata": {},
   "source": [
    "#### Grouby- Duration Category"
   ]
  },
  {
   "cell_type": "code",
   "execution_count": 54,
   "metadata": {},
   "outputs": [],
   "source": [
    "usage = ['userid','mobile_likes', 'www_likes', 'mobile_likes_received', 'www_likes_received', 'friend_count', 'friendships_initiated']"
   ]
  },
  {
   "cell_type": "code",
   "execution_count": 55,
   "metadata": {},
   "outputs": [
    {
     "data": {
      "image/png": "[encoded data removed]",
      "text/plain": [
       "<Figure size 1080x360 with 1 Axes>"
      ]
     },
     "metadata": {
      "needs_background": "light"
     },
     "output_type": "display_data"
    },
    {
     "data": {
      "image/png": "[encoded data removed]",
      "text/plain": [
       "<Figure size 1080x360 with 1 Axes>"
      ]
     },
     "metadata": {
      "needs_background": "light"
     },
     "output_type": "display_data"
    },
    {
     "data": {
      "image/png": "[encoded data removed]",
      "text/plain": [
       "<Figure size 1080x360 with 1 Axes>"
      ]
     },
     "metadata": {
      "needs_background": "light"
     },
     "output_type": "display_data"
    },
    {
     "data": {
      "image/png": "[encoded data removed]",
      "text/plain": [
       "<Figure size 1080x360 with 1 Axes>"
      ]
     },
     "metadata": {
      "needs_background": "light"
     },
     "output_type": "display_data"
    },
    {
     "data": {
      "image/png": "[encoded data removed]",
      "text/plain": [
       "<Figure size 1080x360 with 1 Axes>"
      ]
     },
     "metadata": {
      "needs_background": "light"
     },
     "output_type": "display_data"
    },
    {
     "data": {
      "image/png": "[encoded data removed]",
      "text/plain": [
       "<Figure size 1080x360 with 1 Axes>"
      ]
     },
     "metadata": {
      "needs_background": "light"
     },
     "output_type": "display_data"
    },
    {
     "data": {
      "image/png": "[encoded data removed]",
      "text/plain": [
       "<Figure size 1080x360 with 1 Axes>"
      ]
     },
     "metadata": {
      "needs_background": "light"
     },
     "output_type": "display_data"
    }
   ],
   "source": [
    "for value in usage:\n",
    "    plt.figure(figsize=(15,5))\n",
    "    facebook_df[ facebook_df['gender'] == 'female'].groupby(['duration'])[value].mean().plot(kind='bar', color='deeppink', )\n",
    "    facebook_df[ facebook_df['gender'] == 'male'].groupby(['duration'])[value].mean().plot(kind='bar', color='royalblue', fontsize=13)\n",
    "    plt.ylabel(value)\n",
    "    plt.legend(['female', 'male'])"
   ]
  },
  {
   "cell_type": "markdown",
   "metadata": {},
   "source": [
    "**Groupby- Duaration Category** Inference: The charts reflect the individual charts and we can see that people become active upto 4 years as the likes received, likes given increases,  friendship increases and then they marginally drop down"
   ]
  },
  {
   "cell_type": "markdown",
   "metadata": {},
   "source": [
    "### Micro to Macro Analysis (Inactive users)\n",
    "\n",
    "We had created a seperate table for inactive users. Though their data is only less than 2% of user data, lets analyze their data as well for the patterns. \n"
   ]
  },
  {
   "cell_type": "code",
   "execution_count": 56,
   "metadata": {},
   "outputs": [
    {
     "name": "stdout",
     "output_type": "stream",
     "text": [
      "Total number of users with no friends is:  1446\n"
     ]
    }
   ],
   "source": [
    "print(\"Total number of users with no friends is: \", len(nofriend_df))"
   ]
  },
  {
   "cell_type": "code",
   "execution_count": 57,
   "metadata": {},
   "outputs": [
    {
     "name": "stdout",
     "output_type": "stream",
     "text": [
      "<class 'pandas.core.frame.DataFrame'>\n",
      "Int64Index: 1446 entries, 0 to 1961\n",
      "Data columns (total 17 columns):\n",
      " #   Column                 Non-Null Count  Dtype         \n",
      "---  ------                 --------------  -----         \n",
      " 0   userid                 1446 non-null   int64         \n",
      " 1   age                    1446 non-null   int64         \n",
      " 2   dob_day                1446 non-null   int64         \n",
      " 3   dob_year               1446 non-null   int64         \n",
      " 4   dob_month              1446 non-null   int64         \n",
      " 5   gender                 1446 non-null   object        \n",
      " 6   tenure                 1446 non-null   float64       \n",
      " 7   friend_count           1446 non-null   int64         \n",
      " 8   friendships_initiated  1446 non-null   int64         \n",
      " 9   likes                  1446 non-null   int64         \n",
      " 10  likes_received         1446 non-null   int64         \n",
      " 11  mobile_likes           1446 non-null   int64         \n",
      " 12  mobile_likes_received  1446 non-null   int64         \n",
      " 13  www_likes              1446 non-null   int64         \n",
      " 14  www_likes_received     1446 non-null   int64         \n",
      " 15  DOB                    1446 non-null   datetime64[ns]\n",
      " 16  duration               1446 non-null   int64         \n",
      "dtypes: datetime64[ns](1), float64(1), int64(14), object(1)\n",
      "memory usage: 203.3+ KB\n"
     ]
    }
   ],
   "source": [
    "nofriend_df.info()"
   ]
  },
  {
   "cell_type": "code",
   "execution_count": 58,
   "metadata": {},
   "outputs": [
    {
     "data": {
      "text/html": [
       "<div>\n",
       "<style scoped>\n",
       "    .dataframe tbody tr th:only-of-type {\n",
       "        vertical-align: middle;\n",
       "    }\n",
       "\n",
       "    .dataframe tbody tr th {\n",
       "        vertical-align: top;\n",
       "    }\n",
       "\n",
       "    .dataframe thead th {\n",
       "        text-align: right;\n",
       "    }\n",
       "</style>\n",
       "<table border=\"1\" class=\"dataframe\">\n",
       "  <thead>\n",
       "    <tr style=\"text-align: right;\">\n",
       "      <th></th>\n",
       "      <th>userid</th>\n",
       "      <th>age</th>\n",
       "      <th>dob_day</th>\n",
       "      <th>dob_year</th>\n",
       "      <th>dob_month</th>\n",
       "      <th>tenure</th>\n",
       "      <th>friend_count</th>\n",
       "      <th>friendships_initiated</th>\n",
       "      <th>likes</th>\n",
       "      <th>likes_received</th>\n",
       "      <th>mobile_likes</th>\n",
       "      <th>mobile_likes_received</th>\n",
       "      <th>www_likes</th>\n",
       "      <th>www_likes_received</th>\n",
       "      <th>duration</th>\n",
       "    </tr>\n",
       "  </thead>\n",
       "  <tbody>\n",
       "    <tr>\n",
       "      <th>count</th>\n",
       "      <td>1446.00</td>\n",
       "      <td>1446.00</td>\n",
       "      <td>1446.00</td>\n",
       "      <td>1446.00</td>\n",
       "      <td>1446.00</td>\n",
       "      <td>1446.00</td>\n",
       "      <td>1446.00</td>\n",
       "      <td>1446.00</td>\n",
       "      <td>1446.00</td>\n",
       "      <td>1446.00</td>\n",
       "      <td>1446.00</td>\n",
       "      <td>1446.00</td>\n",
       "      <td>1446.00</td>\n",
       "      <td>1446.00</td>\n",
       "      <td>1446.00</td>\n",
       "    </tr>\n",
       "    <tr>\n",
       "      <th>mean</th>\n",
       "      <td>1579833.81</td>\n",
       "      <td>33.56</td>\n",
       "      <td>13.19</td>\n",
       "      <td>1979.44</td>\n",
       "      <td>5.78</td>\n",
       "      <td>323.34</td>\n",
       "      <td>0.00</td>\n",
       "      <td>0.00</td>\n",
       "      <td>1.86</td>\n",
       "      <td>0.39</td>\n",
       "      <td>1.32</td>\n",
       "      <td>0.16</td>\n",
       "      <td>0.54</td>\n",
       "      <td>0.23</td>\n",
       "      <td>1.42</td>\n",
       "    </tr>\n",
       "    <tr>\n",
       "      <th>std</th>\n",
       "      <td>339359.00</td>\n",
       "      <td>14.63</td>\n",
       "      <td>9.07</td>\n",
       "      <td>14.63</td>\n",
       "      <td>3.65</td>\n",
       "      <td>250.80</td>\n",
       "      <td>0.00</td>\n",
       "      <td>0.00</td>\n",
       "      <td>24.55</td>\n",
       "      <td>3.33</td>\n",
       "      <td>24.07</td>\n",
       "      <td>1.13</td>\n",
       "      <td>4.71</td>\n",
       "      <td>2.67</td>\n",
       "      <td>0.68</td>\n",
       "    </tr>\n",
       "    <tr>\n",
       "      <th>min</th>\n",
       "      <td>1000183.00</td>\n",
       "      <td>13.00</td>\n",
       "      <td>1.00</td>\n",
       "      <td>1905.00</td>\n",
       "      <td>1.00</td>\n",
       "      <td>31.00</td>\n",
       "      <td>0.00</td>\n",
       "      <td>0.00</td>\n",
       "      <td>0.00</td>\n",
       "      <td>0.00</td>\n",
       "      <td>0.00</td>\n",
       "      <td>0.00</td>\n",
       "      <td>0.00</td>\n",
       "      <td>0.00</td>\n",
       "      <td>1.00</td>\n",
       "    </tr>\n",
       "    <tr>\n",
       "      <th>25%</th>\n",
       "      <td>1287955.50</td>\n",
       "      <td>23.00</td>\n",
       "      <td>5.00</td>\n",
       "      <td>1972.00</td>\n",
       "      <td>2.00</td>\n",
       "      <td>141.00</td>\n",
       "      <td>0.00</td>\n",
       "      <td>0.00</td>\n",
       "      <td>0.00</td>\n",
       "      <td>0.00</td>\n",
       "      <td>0.00</td>\n",
       "      <td>0.00</td>\n",
       "      <td>0.00</td>\n",
       "      <td>0.00</td>\n",
       "      <td>1.00</td>\n",
       "    </tr>\n",
       "    <tr>\n",
       "      <th>50%</th>\n",
       "      <td>1564420.50</td>\n",
       "      <td>30.00</td>\n",
       "      <td>13.00</td>\n",
       "      <td>1983.00</td>\n",
       "      <td>5.00</td>\n",
       "      <td>273.50</td>\n",
       "      <td>0.00</td>\n",
       "      <td>0.00</td>\n",
       "      <td>0.00</td>\n",
       "      <td>0.00</td>\n",
       "      <td>0.00</td>\n",
       "      <td>0.00</td>\n",
       "      <td>0.00</td>\n",
       "      <td>0.00</td>\n",
       "      <td>1.00</td>\n",
       "    </tr>\n",
       "    <tr>\n",
       "      <th>75%</th>\n",
       "      <td>1869786.75</td>\n",
       "      <td>41.00</td>\n",
       "      <td>20.00</td>\n",
       "      <td>1990.00</td>\n",
       "      <td>9.00</td>\n",
       "      <td>437.00</td>\n",
       "      <td>0.00</td>\n",
       "      <td>0.00</td>\n",
       "      <td>0.00</td>\n",
       "      <td>0.00</td>\n",
       "      <td>0.00</td>\n",
       "      <td>0.00</td>\n",
       "      <td>0.00</td>\n",
       "      <td>0.00</td>\n",
       "      <td>2.00</td>\n",
       "    </tr>\n",
       "    <tr>\n",
       "      <th>max</th>\n",
       "      <td>2193232.00</td>\n",
       "      <td>108.00</td>\n",
       "      <td>31.00</td>\n",
       "      <td>2000.00</td>\n",
       "      <td>12.00</td>\n",
       "      <td>1901.00</td>\n",
       "      <td>0.00</td>\n",
       "      <td>0.00</td>\n",
       "      <td>848.00</td>\n",
       "      <td>72.00</td>\n",
       "      <td>848.00</td>\n",
       "      <td>17.00</td>\n",
       "      <td>73.00</td>\n",
       "      <td>56.00</td>\n",
       "      <td>6.00</td>\n",
       "    </tr>\n",
       "  </tbody>\n",
       "</table>\n",
       "</div>"
      ],
      "text/plain": [
       "          userid     age  dob_day  dob_year  dob_month  tenure  friend_count  \\\n",
       "count    1446.00 1446.00  1446.00   1446.00    1446.00 1446.00       1446.00   \n",
       "mean  1579833.81   33.56    13.19   1979.44       5.78  323.34          0.00   \n",
       "std    339359.00   14.63     9.07     14.63       3.65  250.80          0.00   \n",
       "min   1000183.00   13.00     1.00   1905.00       1.00   31.00          0.00   \n",
       "25%   1287955.50   23.00     5.00   1972.00       2.00  141.00          0.00   \n",
       "50%   1564420.50   30.00    13.00   1983.00       5.00  273.50          0.00   \n",
       "75%   1869786.75   41.00    20.00   1990.00       9.00  437.00          0.00   \n",
       "max   2193232.00  108.00    31.00   2000.00      12.00 1901.00          0.00   \n",
       "\n",
       "       friendships_initiated   likes  likes_received  mobile_likes  \\\n",
       "count                1446.00 1446.00         1446.00       1446.00   \n",
       "mean                    0.00    1.86            0.39          1.32   \n",
       "std                     0.00   24.55            3.33         24.07   \n",
       "min                     0.00    0.00            0.00          0.00   \n",
       "25%                     0.00    0.00            0.00          0.00   \n",
       "50%                     0.00    0.00            0.00          0.00   \n",
       "75%                     0.00    0.00            0.00          0.00   \n",
       "max                     0.00  848.00           72.00        848.00   \n",
       "\n",
       "       mobile_likes_received  www_likes  www_likes_received  duration  \n",
       "count                1446.00    1446.00             1446.00   1446.00  \n",
       "mean                    0.16       0.54                0.23      1.42  \n",
       "std                     1.13       4.71                2.67      0.68  \n",
       "min                     0.00       0.00                0.00      1.00  \n",
       "25%                     0.00       0.00                0.00      1.00  \n",
       "50%                     0.00       0.00                0.00      1.00  \n",
       "75%                     0.00       0.00                0.00      2.00  \n",
       "max                    17.00      73.00               56.00      6.00  "
      ]
     },
     "execution_count": 58,
     "metadata": {},
     "output_type": "execute_result"
    }
   ],
   "source": [
    "nofriend_df.describe()"
   ]
  },
  {
   "cell_type": "markdown",
   "metadata": {},
   "source": [
    "#### Inactive users gender"
   ]
  },
  {
   "cell_type": "code",
   "execution_count": 59,
   "metadata": {},
   "outputs": [
    {
     "data": {
      "image/png": "[encoded data removed]",
      "text/plain": [
       "<Figure size 720x576 with 1 Axes>"
      ]
     },
     "metadata": {},
     "output_type": "display_data"
    }
   ],
   "source": [
    "plt.figure(figsize=(10,8))\n",
    "\n",
    "nofriend_df['gender'].value_counts().plot(kind='pie', fontsize =14, autopct='%3.1f%%', legend = True, explode =[0.01,0.01])\n",
    "plt.ylabel('gender',fontsize =14)\n",
    "plt.savefig('fbpdfile_nofriend.jpg', bbox_inches = 'tight', dpi =300)\n",
    "plt.title('Inactive users gender split')\n",
    "plt.show()"
   ]
  },
  {
   "cell_type": "markdown",
   "metadata": {},
   "source": [
    "**Inactive users gender split** Inference: 3 times the men are inactive when compared to women\n"
   ]
  },
  {
   "cell_type": "markdown",
   "metadata": {},
   "source": [
    "#### Inactive users vs age groups"
   ]
  },
  {
   "cell_type": "code",
   "execution_count": 60,
   "metadata": {},
   "outputs": [],
   "source": [
    "nofriend_df['agenf_bins'] = pd.cut(facebook_df['age'].dropna(),\n",
    "                            [0,18,28,38,48,58,68,78,88,99],\n",
    "                            labels=['<18','19-28','29-38','39-48','49-58','59-68','69-78','79-88','89-99'],include_lowest=True)"
   ]
  },
  {
   "cell_type": "code",
   "execution_count": 61,
   "metadata": {},
   "outputs": [
    {
     "data": {
      "text/plain": [
       "Text(0.5, 1.0, 'Inactive users age group vs gender')"
      ]
     },
     "execution_count": 61,
     "metadata": {},
     "output_type": "execute_result"
    },
    {
     "data": {
      "image/png": "[encoded data removed]",
      "text/plain": [
       "<Figure size 576x432 with 1 Axes>"
      ]
     },
     "metadata": {
      "needs_background": "light"
     },
     "output_type": "display_data"
    }
   ],
   "source": [
    "fig,ax =plt.subplots(figsize=(8,6))\n",
    "sns.countplot(data = nofriend_df,x = 'agenf_bins', hue='gender')\n",
    "plt.title('Inactive users age group vs gender')"
   ]
  },
  {
   "cell_type": "markdown",
   "metadata": {},
   "source": [
    "**Inactive users age group vs gender** Inference: Men are more inactive and 19-28 years is the highest, looks like they are just joining college or caught up with big steps in life and yet to become more social on facebook"
   ]
  },
  {
   "cell_type": "markdown",
   "metadata": {},
   "source": [
    "#### Inactive users vs tenure"
   ]
  },
  {
   "cell_type": "code",
   "execution_count": 62,
   "metadata": {},
   "outputs": [
    {
     "data": {
      "text/plain": [
       "Text(0.5, 1.0, 'Inactive users Tenure vs gender')"
      ]
     },
     "execution_count": 62,
     "metadata": {},
     "output_type": "execute_result"
    },
    {
     "data": {
      "image/png": "[encoded data removed]",
      "text/plain": [
       "<Figure size 576x432 with 1 Axes>"
      ]
     },
     "metadata": {
      "needs_background": "light"
     },
     "output_type": "display_data"
    }
   ],
   "source": [
    "fig,ax =plt.subplots(figsize=(8,6))\n",
    "sns.countplot(data = nofriend_df,x = 'duration', hue='gender')\n",
    "plt.title('Inactive users Tenure vs gender')"
   ]
  },
  {
   "cell_type": "markdown",
   "metadata": {},
   "source": [
    "**Inactive users Tenure vs gender** Inference: Men are generally inactive and also their inactivity is higher during the first 2 years"
   ]
  },
  {
   "cell_type": "markdown",
   "metadata": {},
   "source": [
    "#### Inactive users likes received (mobile+web)"
   ]
  },
  {
   "cell_type": "code",
   "execution_count": 63,
   "metadata": {},
   "outputs": [
    {
     "data": {
      "text/plain": [
       "<matplotlib.legend.Legend at 0x20466203a48>"
      ]
     },
     "execution_count": 63,
     "metadata": {},
     "output_type": "execute_result"
    },
    {
     "data": {
      "image/png": "[encoded data removed]",
      "text/plain": [
       "<Figure size 1080x504 with 1 Axes>"
      ]
     },
     "metadata": {
      "needs_background": "light"
     },
     "output_type": "display_data"
    }
   ],
   "source": [
    "\n",
    "nofriend_df.groupby(['gender'])['mobile_likes_received'].mean().plot(kind='bar', figsize=(15, 7), color='grey')\n",
    "nofriend_df.groupby(['gender'])['www_likes_received'].mean().plot(kind='bar', figsize=(15, 7), color='orange', fontsize=13)\n",
    "\n",
    "plt.xlabel('gender')\n",
    "plt.ylabel('likes recieved')\n",
    "plt.title('Inactive users Likes recieved for each gender')\n",
    "plt.legend(labels=( 'mobile_likes_received', 'www_likes_received'))"
   ]
  },
  {
   "cell_type": "markdown",
   "metadata": {},
   "source": [
    "**Inactive users Likes recieved for each gender** Inference-Like the major population, even here women recieved more likes than men on web. "
   ]
  },
  {
   "cell_type": "markdown",
   "metadata": {},
   "source": [
    "#### Inactive users likes given (mobile + web)"
   ]
  },
  {
   "cell_type": "code",
   "execution_count": 64,
   "metadata": {},
   "outputs": [
    {
     "data": {
      "text/plain": [
       "<matplotlib.legend.Legend at 0x204491b15c8>"
      ]
     },
     "execution_count": 64,
     "metadata": {},
     "output_type": "execute_result"
    },
    {
     "data": {
      "image/png": "[encoded data removed]",
      "text/plain": [
       "<Figure size 1080x504 with 1 Axes>"
      ]
     },
     "metadata": {
      "needs_background": "light"
     },
     "output_type": "display_data"
    }
   ],
   "source": [
    "\n",
    "nofriend_df.groupby(['gender'])['mobile_likes'].mean().plot(kind='bar', figsize=(15, 7), color='grey')\n",
    "nofriend_df.groupby(['gender'])['www_likes'].mean().plot(kind='bar', figsize=(15, 7), color='orange', fontsize=13)\n",
    "\n",
    "plt.xlabel('gender')\n",
    "plt.ylabel('likes given')\n",
    "plt.title('Inactive Users Stacked Bar Chart showing the likes given of each gender')\n",
    "plt.legend(labels=('mobile_likes', 'www_likes'))"
   ]
  },
  {
   "cell_type": "markdown",
   "metadata": {},
   "source": [
    "**Inactive Users likes given by each gender** Inference: Similar to above, women have got more likes than men"
   ]
  },
  {
   "cell_type": "markdown",
   "metadata": {},
   "source": [
    "#### Inactive users Lkes recieved over time"
   ]
  },
  {
   "cell_type": "code",
   "execution_count": 65,
   "metadata": {
    "scrolled": true
   },
   "outputs": [
    {
     "data": {
      "text/plain": [
       "<matplotlib.legend.Legend at 0x204493ff788>"
      ]
     },
     "execution_count": 65,
     "metadata": {},
     "output_type": "execute_result"
    },
    {
     "data": {
      "image/png": "[encoded data removed]",
      "text/plain": [
       "<Figure size 1080x504 with 1 Axes>"
      ]
     },
     "metadata": {
      "needs_background": "light"
     },
     "output_type": "display_data"
    }
   ],
   "source": [
    "\n",
    "nofriend_df.groupby(['duration'])['mobile_likes_received'].mean().plot(kind='bar', figsize=(15, 7), color='grey')\n",
    "nofriend_df.groupby(['duration'])['www_likes_received'].mean().plot(kind='bar', figsize=(15, 7), color='orange', fontsize=13)\n",
    "\n",
    "plt.xlabel('duration')\n",
    "plt.ylabel('likes recieved')\n",
    "plt.title('Inactive users_ Stacked Bar Chart showing the likes recieved over time')\n",
    "plt.legend(labels=( 'mobile_likes_received', 'www_likes_received'))"
   ]
  },
  {
   "cell_type": "markdown",
   "metadata": {},
   "source": [
    "**Inactive users Likes received** - Inference People have tried to be active on facebook initially and then the usage has trailed off"
   ]
  },
  {
   "cell_type": "markdown",
   "metadata": {},
   "source": [
    "#### Inactive user likes given over time####"
   ]
  },
  {
   "cell_type": "code",
   "execution_count": 66,
   "metadata": {},
   "outputs": [
    {
     "data": {
      "text/plain": [
       "<matplotlib.legend.Legend at 0x20449193088>"
      ]
     },
     "execution_count": 66,
     "metadata": {},
     "output_type": "execute_result"
    },
    {
     "data": {
      "image/png": "[encoded data removed]",
      "text/plain": [
       "<Figure size 1080x504 with 1 Axes>"
      ]
     },
     "metadata": {
      "needs_background": "light"
     },
     "output_type": "display_data"
    }
   ],
   "source": [
    "\n",
    "nofriend_df.groupby(['duration'])['mobile_likes'].mean().plot(kind='bar', figsize=(15, 7), color='grey')\n",
    "nofriend_df.groupby(['duration'])['www_likes'].mean().plot(kind='bar', figsize=(15, 7), color='orange', fontsize=13)\n",
    "\n",
    "plt.xlabel('duration')\n",
    "plt.ylabel('likes given')\n",
    "plt.title('No friends_ Stacked Bar Chart showing the likes given over time')\n",
    "plt.legend(labels=('mobile_likes', 'www_likes'))"
   ]
  },
  {
   "cell_type": "markdown",
   "metadata": {},
   "source": [
    "**Inactive users likes given over time** Inference:Though they have not received likes, they have continued to receive slighly more likes"
   ]
  },
  {
   "cell_type": "markdown",
   "metadata": {},
   "source": [
    "##  **EDA** - Summarization\n",
    "\n",
    "Facebook is opened to all in September 2006. Mobile apps for Facebook, launched in 2008 on iOS and 2010 on Android<br>\n",
    "\n",
    "**Strength** - Women, minors and the younger workforce are active users<br>\n",
    "**Weakness** - Men though high in number are not active in comparison with women<br>\n",
    "**Opportunity** - Though mobile app was launched after web format of FB, the users have adapted to Mobile<br>\n",
    "**Threat** - Users post 5 years have significantly dropped in usage. "
   ]
  },
  {
   "cell_type": "markdown",
   "metadata": {},
   "source": [
    "##  **EDA** - Actionable Insights\n",
    "\n",
    "\n",
    "**Men** usage can be increased by bringing in **more engaging activities** like Live sports, Men clubs etc. <br>\n",
    "\n",
    "**Senior citizens** can be retained by bringing in **more family related entertainment** or **health related activities** for their use. <br>\n",
    "\n",
    "**Redeamable Rewards points**  can be introduced for sharing, commenting or liking a friend's post.<br>\n",
    "\n",
    "**Monetary bonuses** can be introduced for posts with high likes, views or following.<br>\n",
    "\n",
    "**Auto suggestions** for friend/groups additions for people with **similar likes and interests** e.g. movies or gardening.\n"
   ]
  },
  {
   "cell_type": "code",
   "execution_count": null,
   "metadata": {},
   "outputs": [],
   "source": []
  }
 ],
 "metadata": {
  "kernelspec": {
   "display_name": "Python 3",
   "language": "python",
   "name": "python3"
  },
  "language_info": {
   "codemirror_mode": {
    "name": "ipython",
    "version": 3
   },
   "file_extension": ".py",
   "mimetype": "text/x-python",
   "name": "python",
   "nbconvert_exporter": "python",
   "pygments_lexer": "ipython3",
   "version": "3.7.4"
  },
  "toc": {
   "base_numbering": 1,
   "nav_menu": {},
   "number_sections": true,
   "sideBar": true,
   "skip_h1_title": true,
   "title_cell": "Table of Contents",
   "title_sidebar": "Contents",
   "toc_cell": true,
   "toc_position": {
    "height": "calc(100% - 180px)",
    "left": "10px",
    "top": "150px",
    "width": "279.273px"
   },
   "toc_section_display": true,
   "toc_window_display": true
  }
 },
 "nbformat": 4,
 "nbformat_minor": 4
}
